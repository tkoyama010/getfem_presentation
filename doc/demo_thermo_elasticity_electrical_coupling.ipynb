{
 "metadata": {
  "name": "",
  "signature": "sha256:3c240423236361e0d640a54c51a3afc58e424f29dd89ea4ca24320b54ba2d32b"
 },
 "nbformat": 3,
 "nbformat_minor": 0,
 "worksheets": [
  {
   "cells": [
    {
     "cell_type": "code",
     "collapsed": false,
     "input": [
      "import getfem as gf\n",
      "import numpy as np"
     ],
     "language": "python",
     "metadata": {},
     "outputs": [],
     "prompt_number": 1
    },
    {
     "cell_type": "code",
     "collapsed": false,
     "input": [
      "#\n",
      "# Physical parameters\n",
      "#\n",
      "epsilon = 1.       # Thickness of the plate (cm)\n",
      "E = 21E6           # Young Modulus (N/cm^2)\n",
      "nu = 0.3           # Poisson ratio\n",
      "clambda = E*nu/((1+nu)*(1-2*nu)) # First Lame coefficient (N/cm^2)\n",
      "cmu = E/(2*(1+nu))               # Second Lame coefficient (N/cm^2)\n",
      "clambdastar = 2*clambda*cmu/(clambda+2*cmu) # Lame coefficient for Plane stress (N/cm^2)\n",
      "F = 100E2          # Force density at the right boundary (N/cm^2)\n",
      "kappa = 4.         # Thermal conductivity (W/(cm K))\n",
      "D = 10.            # Heat transfert coefficient (W/(K cm^2))\n",
      "air_temp = 20.     # Temperature of the air in oC.\n",
      "alpha_th = 16.6E-6 # Thermal expansion coefficient (/K).\n",
      "T0 = 20.           # Reference temperature in oC.\n",
      "rho_0 = 1.754E-8   # Resistance temperature coefficient at T0 = 20oC\n",
      "alpha = 0.0039     # Second resistance temperature coefficient.\n",
      "\n",
      "#\n",
      "# Numerical parameters\n",
      "#\n",
      "h = 2.                     # Approximate mesh size\n",
      "elements_degree = 2        # Degree of the finite element methods\n",
      "export_mesh = True         # Draw the mesh after mesh generation or not\n",
      "solve_in_two_steps = True  # Solve the elasticity problem separately or not\n"
     ],
     "language": "python",
     "metadata": {},
     "outputs": [],
     "prompt_number": 2
    },
    {
     "cell_type": "code",
     "collapsed": false,
     "input": [
      "mo1 = gf.MesherObject('rectangle', [0., 0.], [100., 25.])\n",
      "mo2 = gf.MesherObject('ball', [25., 12.5], 8.)\n",
      "mo3 = gf.MesherObject('ball', [50., 12.5], 8.)\n",
      "mo4 = gf.MesherObject('ball', [75., 12.5], 8.)\n",
      "mo5 = gf.MesherObject('union', mo2, mo3, mo4)\n",
      "mo  = gf.MesherObject('set minus', mo1, mo5)\n"
     ],
     "language": "python",
     "metadata": {},
     "outputs": [],
     "prompt_number": 3
    },
    {
     "cell_type": "code",
     "collapsed": false,
     "input": [
      "mesh = gf.Mesh('generate', mo, h, 2)"
     ],
     "language": "python",
     "metadata": {},
     "outputs": [],
     "prompt_number": 4
    },
    {
     "cell_type": "code",
     "collapsed": false,
     "input": [
      "fb1 = mesh.outer_faces_in_box([1., 1.], [99., 24.])\n",
      "fb2 = mesh.outer_faces_with_direction([ 1., 0.], 0.01)\n",
      "fb3 = mesh.outer_faces_with_direction([-1., 0.], 0.01)\n",
      "fb4 = mesh.outer_faces_with_direction([0.,  1.], 0.01)\n",
      "fb5 = mesh.outer_faces_with_direction([0., -1.], 0.01)\n",
      "\n",
      "RIGHT_BOUND=1; LEFT_BOUND=2; TOP_BOUND=3; BOTTOM_BOUND=4; HOLE_BOUND=5;\n",
      "\n",
      "mesh.set_region( RIGHT_BOUND, fb2)\n",
      "mesh.set_region(  LEFT_BOUND, fb3)\n",
      "mesh.set_region(   TOP_BOUND, fb4)\n",
      "mesh.set_region(BOTTOM_BOUND, fb5)\n",
      "mesh.set_region(  HOLE_BOUND, fb1)\n",
      "mesh.region_subtract( RIGHT_BOUND, HOLE_BOUND)\n",
      "mesh.region_subtract(  LEFT_BOUND, HOLE_BOUND)\n",
      "mesh.region_subtract(   TOP_BOUND, HOLE_BOUND)\n",
      "mesh.region_subtract(BOTTOM_BOUND, HOLE_BOUND)"
     ],
     "language": "python",
     "metadata": {},
     "outputs": [],
     "prompt_number": 5
    },
    {
     "cell_type": "code",
     "collapsed": false,
     "input": [
      "mesh.export_to_vtk('mesh.vtk');\n",
      "# You can view the mesh for instance with\n",
      "# mayavi2 -d mesh.vtk -f ExtractEdges -m Surface"
     ],
     "language": "python",
     "metadata": {},
     "outputs": [],
     "prompt_number": 6
    },
    {
     "cell_type": "code",
     "collapsed": false,
     "input": [
      "mfu = gf.MeshFem(mesh, 2)  # Finite element for the elastic displacement\n",
      "mfu.set_classical_fem(elements_degree)\n",
      "mft = gf.MeshFem(mesh, 1)  # Finite element for temperature and electrical field\n",
      "mft.set_classical_fem(elements_degree)\n",
      "mfvm = gf.MeshFem(mesh, 1) # Finite element for Von Mises stress interpolation\n",
      "mfvm.set_classical_discontinuous_fem(elements_degree)\n",
      "mim = gf.MeshIm(mesh, pow(elements_degree,2))   # Integration method\n"
     ],
     "language": "python",
     "metadata": {},
     "outputs": [],
     "prompt_number": 7
    },
    {
     "cell_type": "code",
     "collapsed": false,
     "input": [
      "md=gf.Model('real');\n",
      "md.add_fem_variable('u', mfu)       # Displacement of the structure\n",
      "md.add_fem_variable('theta', mft)   # Temperature\n",
      "md.add_fem_variable('V', mft)       # Electric potential"
     ],
     "language": "python",
     "metadata": {},
     "outputs": [],
     "prompt_number": 8
    },
    {
     "cell_type": "code",
     "collapsed": false,
     "input": [
      "md.add_initialized_data('cmu', [cmu])\n",
      "md.add_initialized_data('clambdastar', [clambdastar])\n",
      "md.add_isotropic_linearized_elasticity_brick(mim, 'u', 'clambdastar', 'cmu')"
     ],
     "language": "python",
     "metadata": {},
     "outputs": [
      {
       "metadata": {},
       "output_type": "pyout",
       "prompt_number": 9,
       "text": [
        "0"
       ]
      }
     ],
     "prompt_number": 9
    },
    {
     "cell_type": "code",
     "collapsed": false,
     "input": [
      "md.add_Dirichlet_condition_with_multipliers(mim, 'u', elements_degree-1, LEFT_BOUND)\n",
      "md.add_initialized_data('Fdata', [F*epsilon, 0])\n",
      "md.add_source_term_brick(mim, 'u', 'Fdata', RIGHT_BOUND)\n"
     ],
     "language": "python",
     "metadata": {},
     "outputs": [
      {
       "metadata": {},
       "output_type": "pyout",
       "prompt_number": 10,
       "text": [
        "2"
       ]
      }
     ],
     "prompt_number": 10
    },
    {
     "cell_type": "code",
     "collapsed": false,
     "input": [
      "sigmaeps = '(eps/(rho_0*(1+alpha*(theta-T0))))'\n",
      "md.add_initialized_data('eps', [epsilon])\n",
      "md.add_initialized_data('rho_0', [rho_0])\n",
      "md.add_initialized_data('alpha', [alpha])\n",
      "md.add_initialized_data('T0', [T0])\n",
      "md.add_nonlinear_generic_assembly_brick(mim, sigmaeps+'*(Grad_V.Grad_Test_V)')\n",
      "md.add_Dirichlet_condition_with_multipliers(mim, 'V', elements_degree-1, RIGHT_BOUND)\n",
      "md.add_initialized_data('DdataV', [0.1])\n",
      "md.add_Dirichlet_condition_with_multipliers(mim, 'V', elements_degree-1, LEFT_BOUND, 'DdataV')\n"
     ],
     "language": "python",
     "metadata": {},
     "outputs": [
      {
       "metadata": {},
       "output_type": "pyout",
       "prompt_number": 11,
       "text": [
        "5"
       ]
      }
     ],
     "prompt_number": 11
    },
    {
     "cell_type": "code",
     "collapsed": false,
     "input": [
      "md.add_initialized_data('kaeps', [kappa*epsilon])\n",
      "md.add_generic_elliptic_brick(mim, 'theta', 'kaeps')\n",
      "md.add_initialized_data('D2', [D*2])\n",
      "md.add_initialized_data('D2airt', [air_temp*D*2])\n",
      "md.add_mass_brick(mim, 'theta', 'D2')\n",
      "md.add_source_term_brick(mim, 'theta', 'D2airt')\n",
      "md.add_initialized_data('Deps', [D/epsilon])\n",
      "md.add_initialized_data('Depsairt', [air_temp*D/epsilon])\n",
      "md.add_Fourier_Robin_brick(mim, 'theta', 'Deps', TOP_BOUND)\n",
      "md.add_source_term_brick(mim, 'theta', 'Depsairt', TOP_BOUND)\n",
      "md.add_Fourier_Robin_brick(mim, 'theta', 'Deps', BOTTOM_BOUND)\n",
      "md.add_source_term_brick(mim, 'theta', 'Depsairt', BOTTOM_BOUND)\n"
     ],
     "language": "python",
     "metadata": {},
     "outputs": [
      {
       "metadata": {},
       "output_type": "pyout",
       "prompt_number": 12,
       "text": [
        "12"
       ]
      }
     ],
     "prompt_number": 12
    },
    {
     "cell_type": "code",
     "collapsed": false,
     "input": [
      "md.add_nonlinear_generic_assembly_brick(mim, '-'+sigmaeps+'*Norm_sqr(Grad_V)*Test_theta')\n"
     ],
     "language": "python",
     "metadata": {},
     "outputs": [
      {
       "metadata": {},
       "output_type": "pyout",
       "prompt_number": 13,
       "text": [
        "13"
       ]
      }
     ],
     "prompt_number": 13
    },
    {
     "cell_type": "code",
     "collapsed": false,
     "input": [
      "md.add_initialized_data('beta', [alpha_th*E/(1-2*nu)])\n",
      "md.add_linear_generic_assembly_brick(mim, 'beta*(T0-theta)*Trace(Grad_Test_u)')\n"
     ],
     "language": "python",
     "metadata": {},
     "outputs": [
      {
       "metadata": {},
       "output_type": "pyout",
       "prompt_number": 14,
       "text": [
        "15"
       ]
      }
     ],
     "prompt_number": 14
    },
    {
     "cell_type": "code",
     "collapsed": false,
     "input": [
      "if (solve_in_two_steps):\n",
      "  md.disable_variable('u')\n",
      "  print 'First problem with', md.nbdof(), ' dofs'\n",
      "  md.solve('max_res', 1E-9, 'max_iter', 100, 'noisy')\n",
      "  md.enable_variable('u')\n",
      "  md.disable_variable('theta')\n",
      "  md.disable_variable('V')\n",
      "  print 'Second problem with ', md.nbdof(), ' dofs'\n",
      "  md.solve('max_res', 1E-9, 'max_iter', 100, 'noisy')\n",
      "else:\n",
      "  print 'Global problem with ', md.nbdof(), ' dofs'\n",
      "  md.solve('max_res', 1E-9, 'max_iter', 100, 'noisy')\n"
     ],
     "language": "python",
     "metadata": {},
     "outputs": [
      {
       "output_type": "stream",
       "stream": "stdout",
       "text": [
        "First problem with 4370  dofs\n",
        "Second problem with "
       ]
      },
      {
       "output_type": "stream",
       "stream": "stdout",
       "text": [
        " 4370  dofs\n"
       ]
      }
     ],
     "prompt_number": 15
    },
    {
     "cell_type": "code",
     "collapsed": false,
     "input": [
      "U = md.variable('u')\n",
      "V = md.variable('V')\n",
      "THETA = md.variable('theta')\n",
      "VM = md.compute_isotropic_linearized_Von_Mises_or_Tresca('u', 'clambdastar', 'cmu', mfvm)\n",
      "CO = np.reshape(md.interpolation('-'+sigmaeps+'*Grad_V', mfvm), (2, mfvm.nbdof()), 'F')\n",
      "\n",
      "mfvm.export_to_vtk('displacement_with_von_mises.vtk', mfvm,  VM, 'Von Mises Stresses', mfu, U, 'Displacements')\n",
      "print ('You can view solutions with for instance:\\nmayavi2 -d displacement_with_von_mises.vtk -f WarpVector -m Surface')\n",
      "mft.export_to_vtk('temperature.vtk', mft, THETA, 'Temperature')\n",
      "print ('mayavi2 -d temperature.vtk -f WarpScalar -m Surface')\n",
      "mft.export_to_vtk('electric_potential.vtk', mft, V, 'Electric potential')\n",
      "print ('mayavi2 -d electric_potential.vtk -f WarpScalar -m Surface')\n"
     ],
     "language": "python",
     "metadata": {},
     "outputs": [
      {
       "output_type": "stream",
       "stream": "stdout",
       "text": [
        "You can view solutions with for instance:\n",
        "mayavi2 -d displacement_with_von_mises.vtk -f WarpVector -m Surface\n",
        "mayavi2 -d temperature.vtk -f WarpScalar -m Surface"
       ]
      },
      {
       "output_type": "stream",
       "stream": "stdout",
       "text": [
        "\n",
        "mayavi2 -d electric_potential.vtk -f WarpScalar -m Surface"
       ]
      },
      {
       "output_type": "stream",
       "stream": "stdout",
       "text": [
        "\n"
       ]
      }
     ],
     "prompt_number": 16
    },
    {
     "cell_type": "code",
     "collapsed": false,
     "input": [],
     "language": "python",
     "metadata": {},
     "outputs": []
    }
   ],
   "metadata": {}
  }
 ]
}
