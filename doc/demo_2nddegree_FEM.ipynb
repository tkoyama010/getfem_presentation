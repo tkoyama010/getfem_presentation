{
 "cells": [
  {
   "cell_type": "markdown",
   "metadata": {},
   "source": [
    "# 1次元有限要素法における２次要素の剛性行列の確認\n",
    "\n",
    "１次元有限要素法の２次要素の剛性行列が必要になったためGetfem++で作成しました。"
   ]
  },
  {
   "cell_type": "code",
   "execution_count": 1,
   "metadata": {
    "collapsed": true
   },
   "outputs": [],
   "source": [
    "import getfem as gf\n",
    "import numpy as np"
   ]
  },
  {
   "cell_type": "markdown",
   "metadata": {},
   "source": [
    "メッシュ作成の際に、'regular simplices'オプションで次数を２次にします。"
   ]
  },
  {
   "cell_type": "code",
   "execution_count": 2,
   "metadata": {
    "collapsed": false
   },
   "outputs": [
    {
     "name": "stdout",
     "output_type": "stream",
     "text": [
      "\n",
      "BEGIN POINTS LIST\n",
      "\n",
      "  POINT  0  0\n",
      "  POINT  1  0.5\n",
      "  POINT  2  1\n",
      "\n",
      "END POINTS LIST\n",
      "\n",
      "\n",
      "\n",
      "BEGIN MESH STRUCTURE DESCRIPTION\n",
      "\n",
      "CONVEX 0    'GT_PK(1,2)'      0  1  2\n",
      "\n",
      "END MESH STRUCTURE DESCRIPTION\n",
      "\n"
     ]
    }
   ],
   "source": [
    "m = gf.Mesh('regular simplices', np.arange(0, 2, 1),'degree',2)\n",
    "print m\n"
   ]
  },
  {
   "cell_type": "markdown",
   "metadata": {},
   "source": [
    "変位用オブジェクトとデータ用オブジェクトを作成します。"
   ]
  },
  {
   "cell_type": "code",
   "execution_count": 3,
   "metadata": {
    "collapsed": false
   },
   "outputs": [
    {
     "name": "stdout",
     "output_type": "stream",
     "text": [
      "\n",
      "BEGIN MESH_FEM\n",
      "\n",
      "QDIM 1\n",
      " CONVEX 0 'FEM_PK(1,2)'\n",
      " BEGIN DOF_ENUMERATION \n",
      "  0:  0 1 2\n",
      " END DOF_ENUMERATION \n",
      "END MESH_FEM\n",
      "\n",
      "\n",
      "BEGIN MESH_FEM\n",
      "\n",
      "QDIM 1\n",
      " CONVEX 0 'FEM_PK(1,2)'\n",
      " BEGIN DOF_ENUMERATION \n",
      "  0:  0 1 2\n",
      " END DOF_ENUMERATION \n",
      "END MESH_FEM\n",
      "\n"
     ]
    }
   ],
   "source": [
    "mfu = gf.MeshFem(m, 1)\n",
    "mfu.set_fem(gf.Fem('FEM_PK(1,2)'))\n",
    "print mfu\n",
    "\n",
    "mfd = gf.MeshFem(m, 1)\n",
    "mfd.set_fem(gf.Fem('FEM_PK(1,2)'))\n",
    "print mfd"
   ]
  },
  {
   "cell_type": "markdown",
   "metadata": {},
   "source": [
    "積分法は'GAUSS1D'の２次とします。"
   ]
  },
  {
   "cell_type": "code",
   "execution_count": 4,
   "metadata": {
    "collapsed": false
   },
   "outputs": [
    {
     "name": "stdout",
     "output_type": "stream",
     "text": [
      "\n",
      "BEGIN MESH_IM\n",
      "\n",
      " CONVEX 0 'IM_GAUSS1D(2)'\n",
      "END MESH_IM\n",
      "\n"
     ]
    }
   ],
   "source": [
    "mim = gf.MeshIm(m, gf.Integ('IM_GAUSS1D(2)'))\n",
    "print mim"
   ]
  },
  {
   "cell_type": "markdown",
   "metadata": {},
   "source": [
    "剛性行列は以下の様になりました。"
   ]
  },
  {
   "cell_type": "code",
   "execution_count": 5,
   "metadata": {
    "collapsed": false
   },
   "outputs": [
    {
     "data": {
      "text/plain": [
       "array([[  7.,  -8.,   1.],\n",
       "       [ -8.,  16.,  -8.],\n",
       "       [  1.,  -8.,   7.]])"
      ]
     },
     "execution_count": 5,
     "metadata": {},
     "output_type": "execute_result"
    }
   ],
   "source": [
    "Lambda = 1.000\n",
    "Mu = 1.000\n",
    "K = gf.asm_linear_elasticity(mim, mfu, mfd, np.repeat([Lambda], mfu.nbdof()), np.repeat([Mu], mfu.nbdof()))\n",
    "K.full()"
   ]
  },
  {
   "cell_type": "markdown",
   "metadata": {
    "collapsed": true
   },
   "source": [
    "今回は応力の計算までやってみます。"
   ]
  },
  {
   "cell_type": "code",
   "execution_count": 6,
   "metadata": {
    "collapsed": false
   },
   "outputs": [
    {
     "name": "stdout",
     "output_type": "stream",
     "text": [
      "[[ 0.   0.5  1. ]]\n"
     ]
    }
   ],
   "source": [
    "P = m.pts()\n",
    "print P\n"
   ]
  },
  {
   "cell_type": "markdown",
   "metadata": {},
   "source": [
    "1要素で上端に力を加え、下端を固定にします。"
   ]
  },
  {
   "cell_type": "code",
   "execution_count": 7,
   "metadata": {
    "collapsed": false
   },
   "outputs": [
    {
     "name": "stdout",
     "output_type": "stream",
     "text": [
      "[ 0.   0.5  1. ]\n",
      "[ True False False]\n",
      "[False False  True]\n",
      "[0]\n",
      "[2]\n",
      "[[0]\n",
      " [1]]\n",
      "[[0]\n",
      " [0]]\n",
      "\n",
      "BEGIN POINTS LIST\n",
      "\n",
      "  POINT  0  0\n",
      "  POINT  1  0.5\n",
      "  POINT  2  1\n",
      "\n",
      "END POINTS LIST\n",
      "\n",
      "\n",
      "\n",
      "BEGIN MESH STRUCTURE DESCRIPTION\n",
      "\n",
      "CONVEX 0    'GT_PK(1,2)'      0  1  2\n",
      "\n",
      "END MESH STRUCTURE DESCRIPTION\n",
      "BEGIN REGION 1\n",
      "0/1 \n",
      "END REGION 1\n",
      "BEGIN REGION 2\n",
      "0/0 \n",
      "END REGION 2\n",
      "\n",
      "3\n",
      "[ 0.  0.  1.]\n",
      "H =  [[ 1.  0.  0.]\n",
      " [ 0.  0.  0.]\n",
      " [ 0.  0.  0.]]\n",
      "R =  [ 0.  0.  0.]\n",
      "N =  [[ 0.  0.]\n",
      " [ 1.  0.]\n",
      " [ 0.  1.]]\n",
      "U0 =  [ 0.  0.  0.]\n",
      "Nt =  [[ 0.  1.  0.]\n",
      " [ 0.  0.  1.]]\n"
     ]
    }
   ],
   "source": [
    "cbot = (abs(P[0,:]-np.min(P)) < 1.000e-06)\n",
    "ctop = (abs(P[0,:]-np.max(P)) < 1.000e-06)\n",
    "print P[0,:]\n",
    "print cbot\n",
    "print ctop\n",
    "pidbot = np.compress(cbot,range(0,m.nbpts()))\n",
    "pidtop = np.compress(ctop,range(0,m.nbpts()))\n",
    "print pidbot\n",
    "print pidtop\n",
    "fbot = m.faces_from_pid(pidbot)\n",
    "ftop = m.faces_from_pid(pidtop)\n",
    "print fbot\n",
    "print ftop\n",
    "BOTTOM = 1\n",
    "TOP = 2\n",
    "m.set_region(BOTTOM, fbot)\n",
    "m.set_region(TOP, ftop)\n",
    "print m\n",
    "nbdof = mfd.nbdof()\n",
    "print nbdof\n",
    "F = gf.asm_boundary_source(TOP, mim, mfu, mfd, np.repeat([[1.0]], nbdof,1))\n",
    "print F\n",
    "(H,R) = gf.asm_dirichlet(BOTTOM, mim, mfu, mfd, mfd.eval('[1]'), mfd.eval('[0]'))\n",
    "print 'H = ', H.full()\n",
    "print 'R = ', R\n",
    "(N, U0) = H.dirichlet_nullspace(R)\n",
    "print 'N = ', N.full()\n",
    "print 'U0 = ', U0\n",
    "Nt = gf.Spmat('copy', N)\n",
    "Nt.transpose()\n",
    "print 'Nt = ', Nt.full()\n"
   ]
  },
  {
   "cell_type": "markdown",
   "metadata": {},
   "source": [
    "準備ができたので連立方程式を解きます。"
   ]
  },
  {
   "cell_type": "code",
   "execution_count": 8,
   "metadata": {
    "collapsed": false
   },
   "outputs": [
    {
     "name": "stdout",
     "output_type": "stream",
     "text": [
      "KK =  [[ 16.  -8.]\n",
      " [ -8.   7.]]\n",
      "FF =  [ 0.  1.]\n",
      "[ 0.          0.16666667  0.33333333]\n"
     ]
    }
   ],
   "source": [
    "KK = Nt*K*N\n",
    "print 'KK = ', KK.full()\n",
    "FF = Nt*F\n",
    "print 'FF = ', FF\n",
    "P = gf.Precond('ildlt',KK)\n",
    "UU = gf.linsolve_cg(KK,FF,P)\n",
    "U = N*UU+U0\n",
    "print U"
   ]
  },
  {
   "cell_type": "markdown",
   "metadata": {},
   "source": [
    "gf.compute_gradientで変位の傾きを計算すると、応力$\\sigma$は$1$になります。"
   ]
  },
  {
   "cell_type": "code",
   "execution_count": 9,
   "metadata": {
    "collapsed": false
   },
   "outputs": [
    {
     "name": "stdout",
     "output_type": "stream",
     "text": [
      "DU =  [[ 0.33333333  0.33333333  0.33333333]]\n",
      "sigma =  [[ 1.  1.  1.]]\n"
     ]
    }
   ],
   "source": [
    "DU = gf.compute_gradient(mfu,U,mfd)\n",
    "print 'DU = ', DU\n",
    "sigma = (Lambda+2.0*Mu)*DU\n",
    "print 'sigma = ', sigma"
   ]
  },
  {
   "cell_type": "code",
   "execution_count": null,
   "metadata": {
    "collapsed": true
   },
   "outputs": [],
   "source": []
  }
 ],
 "metadata": {
  "kernelspec": {
   "display_name": "Python 2",
   "language": "python",
   "name": "python2"
  },
  "language_info": {
   "codemirror_mode": {
    "name": "ipython",
    "version": 2
   },
   "file_extension": ".py",
   "mimetype": "text/x-python",
   "name": "python",
   "nbconvert_exporter": "python",
   "pygments_lexer": "ipython2",
   "version": "2.7.9"
  }
 },
 "nbformat": 4,
 "nbformat_minor": 0
}
