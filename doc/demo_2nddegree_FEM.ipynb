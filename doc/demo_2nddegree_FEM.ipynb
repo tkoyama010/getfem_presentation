{
 "cells": [
  {
   "cell_type": "markdown",
   "metadata": {},
   "source": [
    "# 1次元有限要素法における２次要素の剛性行列の確認\n",
    "\n",
    "１次元有限要素法の２次要素の剛性行列が必要になったためGetfem++で作成しました。"
   ]
  },
  {
   "cell_type": "code",
   "execution_count": 1,
   "metadata": {
    "collapsed": true
   },
   "outputs": [],
   "source": [
    "import getfem as gf\n",
    "import numpy as np"
   ]
  },
  {
   "cell_type": "markdown",
   "metadata": {},
   "source": [
    "メッシュ作成の際に、'regular simplices'オプションで次数を２次にします。"
   ]
  },
  {
   "cell_type": "code",
   "execution_count": 2,
   "metadata": {
    "collapsed": false
   },
   "outputs": [
    {
     "name": "stdout",
     "output_type": "stream",
     "text": [
      "\n",
      "BEGIN POINTS LIST\n",
      "\n",
      "  POINT  0  0\n",
      "  POINT  1  0.5\n",
      "  POINT  2  1\n",
      "\n",
      "END POINTS LIST\n",
      "\n",
      "\n",
      "\n",
      "BEGIN MESH STRUCTURE DESCRIPTION\n",
      "\n",
      "CONVEX 0    'GT_PK(1,2)'      0  1  2\n",
      "\n",
      "END MESH STRUCTURE DESCRIPTION\n",
      "\n"
     ]
    }
   ],
   "source": [
    "m = gf.Mesh('regular simplices', np.arange(0, 2, 1),'degree',2)\n",
    "print m\n"
   ]
  },
  {
   "cell_type": "markdown",
   "metadata": {},
   "source": [
    "変位用オブジェクトとデータ用オブジェクトを作成します。"
   ]
  },
  {
   "cell_type": "code",
   "execution_count": 3,
   "metadata": {
    "collapsed": false
   },
   "outputs": [
    {
     "name": "stdout",
     "output_type": "stream",
     "text": [
      "\n",
      "BEGIN MESH_FEM\n",
      "\n",
      "QDIM 1\n",
      " CONVEX 0 'FEM_PK(1,2)'\n",
      " BEGIN DOF_ENUMERATION \n",
      "  0:  0 1 2\n",
      " END DOF_ENUMERATION \n",
      "END MESH_FEM\n",
      "\n",
      "\n",
      "BEGIN MESH_FEM\n",
      "\n",
      "QDIM 1\n",
      " CONVEX 0 'FEM_PK(1,2)'\n",
      " BEGIN DOF_ENUMERATION \n",
      "  0:  0 1 2\n",
      " END DOF_ENUMERATION \n",
      "END MESH_FEM\n",
      "\n"
     ]
    }
   ],
   "source": [
    "mfu = gf.MeshFem(m, 1)\n",
    "mfu.set_fem(gf.Fem('FEM_PK(1,2)'))\n",
    "print mfu\n",
    "\n",
    "mfd = gf.MeshFem(m, 1)\n",
    "mfd.set_fem(gf.Fem('FEM_QK(1,2)'))\n",
    "print mfd"
   ]
  },
  {
   "cell_type": "markdown",
   "metadata": {},
   "source": [
    "積分法は'GAUSS1D'の２次とします。"
   ]
  },
  {
   "cell_type": "code",
   "execution_count": 4,
   "metadata": {
    "collapsed": false
   },
   "outputs": [
    {
     "name": "stdout",
     "output_type": "stream",
     "text": [
      "\n",
      "BEGIN MESH_IM\n",
      "\n",
      " CONVEX 0 'IM_GAUSS1D(2)'\n",
      "END MESH_IM\n",
      "\n"
     ]
    }
   ],
   "source": [
    "mim = gf.MeshIm(m, gf.Integ('IM_GAUSS1D(2)'))\n",
    "print mim"
   ]
  },
  {
   "cell_type": "markdown",
   "metadata": {},
   "source": [
    "剛性行列は以下の様になりました。"
   ]
  },
  {
   "cell_type": "code",
   "execution_count": 5,
   "metadata": {
    "collapsed": false
   },
   "outputs": [
    {
     "data": {
      "text/plain": [
       "array([[  7.,  -8.,   1.],\n",
       "       [ -8.,  16.,  -8.],\n",
       "       [  1.,  -8.,   7.]])"
      ]
     },
     "execution_count": 5,
     "metadata": {},
     "output_type": "execute_result"
    }
   ],
   "source": [
    "K = gf.asm_linear_elasticity(mim, mfu, mfd, np.repeat([1.000E+00],3), np.repeat([1.000E+00],3))\n",
    "K.full()"
   ]
  },
  {
   "cell_type": "code",
   "execution_count": null,
   "metadata": {
    "collapsed": true
   },
   "outputs": [],
   "source": []
  }
 ],
 "metadata": {
  "kernelspec": {
   "display_name": "Python 2",
   "language": "python",
   "name": "python2"
  },
  "language_info": {
   "codemirror_mode": {
    "name": "ipython",
    "version": 2
   },
   "file_extension": ".py",
   "mimetype": "text/x-python",
   "name": "python",
   "nbconvert_exporter": "python",
   "pygments_lexer": "ipython2",
   "version": "2.7.9"
  }
 },
 "nbformat": 4,
 "nbformat_minor": 0
}
