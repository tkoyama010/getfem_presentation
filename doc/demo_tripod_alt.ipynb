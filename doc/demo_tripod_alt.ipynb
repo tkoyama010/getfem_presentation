{
 "metadata": {
  "name": "",
  "signature": "sha256:474247f4deef2ca3e397fbf2022daf90972283072a26724d2794422cf47002df"
 },
 "nbformat": 3,
 "nbformat_minor": 0,
 "worksheets": [
  {
   "cells": [
    {
     "cell_type": "markdown",
     "metadata": {},
     "source": [
      "#\u306f\u3058\u3081\u306b\n",
      "\u9759\u7684\u306a\u5834\u5408\u306e\u6709\u9650\u8981\u7d20\u6cd5\u554f\u984c\u306b\u304a\u3051\u308b\u5909\u4f4d\u306f\u4ee5\u4e0b\u306e\u3088\u3046\u306a\u9023\u7acb\u65b9\u7a0b\u5f0f\u3092\u3068\u304f\u3053\u3068\u306b\u3088\u308a\u5f97\u3089\u308c\u307e\u3059\u3002\n",
      "\n",
      "$KU=F$ \n",
      "\n",
      "$HU=R$\n",
      "\n",
      "\u3053\u3053\u3067\u3001$K$\u306f\u525b\u6027\u884c\u5217\u3001$U$\u306f\u5909\u4f4d\u30d9\u30af\u30c8\u30eb\u3067\u3059\u3002\n",
      "\u4e00\u65b9\u3001$F$\u306f\u5916\u529b\u30d9\u30af\u30c8\u30eb(NEUMANN\u6761\u4ef6)\u3067\u3042\u308a\u3001$HU=R$\u306f\u56fa\u5b9a\u7aef\u3084\u30ed\u30fc\u30e9\u30fc\u6761\u4ef6(DIRICHLET\u6761\u4ef6)\u3067\u3059\u3002\n",
      "\n",
      "\u3053\u306e\u8cc7\u6599\u306f\u4e09\u811a\u306e\u30e1\u30c3\u30b7\u30e5\u3092python\u3067\u30a4\u30f3\u30dd\u30fc\u30c8\u3057\u3001\u5883\u754c\u6761\u4ef6\u3092\u8a2d\u5b9a\u3057\u525b\u6027\u884c\u5217$K$\u3068\u5916\u529b\u30d9\u30af\u30c8\u30eb$F$\u3092\u4f5c\u6210\u3057\u3066\u5909\u4f4d$U$\u3092\u8a08\u7b97\u3059\u308b\u904e\u7a0b\u3092\u8aac\u660e\u3057\u305f\u3082\u306e\u3067\u3059\u3002"
     ]
    },
    {
     "cell_type": "markdown",
     "metadata": {},
     "source": [
      "#\u30a4\u30f3\u30b9\u30c8\u30fc\u30eb\u3068\u30e2\u30b8\u30e5\u30fc\u30eb\u306e\u30a4\u30f3\u30dd\u30fc\u30c8\n",
      "\n",
      "## \u30a4\u30f3\u30b9\u30c8\u30fc\u30eb\u65b9\u6cd5\n",
      "\n",
      "### Linux(Ubuntu)\n",
      "\n",
      "\u307e\u305a\u306fGetfem++\u306epython\u30a4\u30f3\u30bf\u30fc\u30d5\u30a7\u30fc\u30b9\u306e\u30e2\u30b8\u30e5\u30fc\u30eb\u3092\u30a4\u30f3\u30dd\u30fc\u30c8\u3057\u307e\u3059\u3002Ubuntu\u7cfb\u306eOS\u3067\u306f\u30a4\u30f3\u30b9\u30c8\u30fc\u30eb\u30b3\u30de\u30f3\u30c9\u306f\n",
      "\n",
      "`$ sudo apt-get install python-getfem++`\n",
      "\n",
      "\u3067\u3059\u3002\u3055\u3089\u306b\u3001\u5883\u754c\u6761\u4ef6\u8a2d\u5b9a\u306b\u4f7f\u3046\u305f\u3081numpy\u3092\u30a4\u30f3\u30dd\u30fc\u30c8\u3057\u307e\u3059\u3002numpy\u306fpython-getfem++\u3068\u4f9d\u5b58\u95a2\u4fc2\u306b\u3042\u308b\u305f\u3081\u3001\u81ea\u52d5\u7684\u306b\u30a4\u30f3\u30b9\u30c8\u30fc\u30eb\u3055\u308c\u307e\u3059\u3002\u30a4\u30f3\u30b9\u30c8\u30fc\u30eb\u304c\u7d42\u308f\u3063\u305f\u3089\u3001\n",
      "\n",
      "`$ sudo apt-get install ipython-notebook`\n",
      "\n",
      "\u3053\u306e\u30d5\u30a1\u30a4\u30eb\u304c\u3042\u308b\u30c7\u30a3\u30ec\u30af\u30c8\u30ea(getfem_presentation/doc/)\u306b\u79fb\u52d5\n",
      "\n",
      "`$ ipython notebook`\n",
      "\n",
      "\u3067\u3001Ipython Notebook\u3092\u8d77\u52d5\u3057\u305f\u5f8c\u3053\u306e\u30d5\u30a1\u30a4\u30eb\u3092\u958b\u3044\u3066\u304f\u3060\u3055\u3044\u3002Ipython Notebook\u304c\u30a4\u30f3\u30b9\u30c8\u30fc\u30eb\u3055\u308c\u3066\u3044\u306a\u3044\u5834\u5408\u306f\u30e1\u30c3\u30bb\u30fc\u30b8\u304c\u3067\u308b\u306e\u3067\u5bfe\u5fdc\u3057\u3066\u304f\u3060\u3055\u3044\u3002(`$ sudo apt-get install ipython-notebook`)\n",
      "\n",
      "\n",
      "### Windows\n",
      "\n",
      "Python 2.7\u7cfb\u306e32bit\u7248\u3092\u30a4\u30f3\u30b9\u30c8\u30fc\u30eb(Getfem++\u306eWindows\u7248\u304c32bit\u7248\u3057\u304b\u306a\u3044\u306e\u3067\u300132bit\u7248\u3067\u306a\u3044\u3068\u52d5\u304b\u306a\u3044)\n",
      "\n",
      "https://www.python.org/ftp/python/2.7.10/python-2.7.10.msi\n",
      "\n",
      "\u4ee5\u4e0b\u306e\u30d5\u30a1\u30a4\u30eb\u3067\u3001Python2.7\u7cfb\u306eGetfem++\u30e2\u30b8\u30e5\u30fc\u30eb\u3092\u30a4\u30f3\u30b9\u30c8\u30fc\u30eb\u3057\u307e\u3059\u3002\n",
      "\n",
      "http://download.gna.org/getfem/misc/getfem_python-4.1.win32-py2.7.exe\n",
      "\n",
      "\u3042\u3068\u306f\u3001\u30d1\u30b9\u3092\u901a\u3057\u305fpip\u30b3\u30de\u30f3\u30c9\u3067\u3001numpy\u3068ipython\u3092\u30a4\u30f3\u30b9\u30c8\u30fc\u30eb\u3057\u307e\u3059\u3002\n",
      "\n",
      "\u7ba1\u7406\u8005\u6a29\u9650\u306e\u30b3\u30de\u30f3\u30c9\u30e9\u30a4\u30f3\n",
      "\n",
      "> pip install notebook\n",
      "\n",
      "> pip install numpy\n",
      "\n",
      "numpy\u306e\u30a4\u30f3\u30b9\u30c8\u30fc\u30eb\u306fC\u30b3\u30f3\u30d1\u30a4\u30e9\u304c\u5fc5\u8981\u306b\u306a\u308b\u306e\u3067\u3001\u30e1\u30c3\u30bb\u30fc\u30b8\u3092\u3088\u304f\u8aad\u307f\u30a4\u30f3\u30b9\u30c8\u30fc\u30eb\u3092\u3057\u3066\u304f\u3060\u3055\u3044\u3002\n",
      "\n",
      "## \u6ce8\u610f\u70b9\n",
      "\n",
      "Ubuntu\u3067paraview-python\u3092\u30a4\u30f3\u30b9\u30c8\u30fc\u30eb\u3057\u305f\u72b6\u614b\u3067\u306a\u3044\u3068\u3001paraview\u306b\u3088\u308b\u63cf\u753b\u90e8\u5206\u306e\u30bb\u30eb\u306f\u5b9f\u884c\u3067\u304d\u307e\u305b\u3093\u3002\u30a4\u30f3\u30b9\u30c8\u30fc\u30eb\u3057\u3066\u3044\u306a\u3044\u5834\u5408\u306f\u3001\u305d\u3053\u306e\u30bb\u30eb\u3092\u524a\u9664\u3057\u3066\u5b9f\u884c\u3057\u3001\u5f8c\u3067Paraview\u3067\u78ba\u8a8d\u3057\u3066\u304f\u3060\u3055\u3044\u3002\n",
      "\n",
      "## \u30e2\u30b8\u30e5\u30fc\u30eb\u306e\u30a4\u30f3\u30dd\u30fc\u30c8\n",
      "\n",
      "\u6163\u4f8b\u7684\u306bGetfem++\u306fgf\u3068\u3057\u3066\u30a4\u30f3\u30dd\u30fc\u30c8\u3057\u3001numpy\u306fnp\u3068\u3057\u3066\u30a4\u30f3\u30dd\u30fc\u30c8\u3057\u307e\u3059\u3002"
     ]
    },
    {
     "cell_type": "code",
     "collapsed": false,
     "input": [
      "import getfem as gf\n",
      "import numpy as np"
     ],
     "language": "python",
     "metadata": {},
     "outputs": [],
     "prompt_number": 1
    },
    {
     "cell_type": "markdown",
     "metadata": {},
     "source": [
      "#\u30d1\u30e9\u30e1\u30fc\u30bf\u306e\u8a2d\u5b9a\n",
      "\u307e\u305a\u306f\u30d1\u30e9\u30e1\u30fc\u30bf\u3092\u8a2d\u5b9a\u3057\u307e\u3059\u3002\u3053\u306e\u4f8b\u3067\u306f\u3001\u3053\u306e\u30d5\u30a1\u30a4\u30eb\u304b\u3089\u306e\u76f8\u5bfe\u30d1\u30b9\u304c '../mesh/tripod.mesh'\u3067\u3042\u308b\u30e1\u30c3\u30b7\u30e5\u30d5\u30a1\u30a4\u30eb\u3092\u4f7f\u7528\u3057\u307e\u3059\u3002\u30e1\u30c3\u30b7\u30e5\u306f\u56db\u9762\u4f53\u8981\u7d20\u3067\u3059\u3002\u30e4\u30f3\u30b0\u4fc2\u6570$E = 1.0\\times10^3$\u3001\u30dd\u30a2\u30bd\u30f3\u6bd4$\\nu = 0.3$\u3068\u3057\u307e\u3059\u3002"
     ]
    },
    {
     "cell_type": "code",
     "collapsed": false,
     "input": [
      "file_msh = '../mesh/tripod.mesh'\n",
      "E = 1e3\n",
      "Nu = 0.3\n",
      "Lambda = E*Nu/((1+Nu)*(1-2*Nu))\n",
      "Mu = E/(2*(1+Nu))"
     ],
     "language": "python",
     "metadata": {},
     "outputs": [],
     "prompt_number": 2
    },
    {
     "cell_type": "markdown",
     "metadata": {},
     "source": [
      "#\u30e1\u30c3\u30b7\u30e5\u306e\u8aad\u307f\u8fbc\u307f\n",
      "\u30e1\u30c3\u30b7\u30e5\u3092\u5916\u90e8\u30d5\u30a1\u30a4\u30eb\u304b\u3089\u8aad\u307f\u8fbc\u307f\u307e\u3059\u3002\u30e1\u30c3\u30b7\u30e5\u306e\u5165\u529b\u30c7\u30fc\u30bf\u306fGetfem++\u306e\u72ec\u81ea\u306e\u30d5\u30a9\u30fc\u30de\u30c3\u30c8\u306b\u306a\u3063\u3066\u3044\u307e\u3059\u304c\u3001\u89e3\u8aad\u306f\u5bb9\u6613\u3060\u3068\u601d\u3044\u307e\u3059\u3002"
     ]
    },
    {
     "cell_type": "code",
     "collapsed": false,
     "input": [
      "m = gf.Mesh('load',file_msh)\n",
      "m.set('optimize_structure')"
     ],
     "language": "python",
     "metadata": {},
     "outputs": [],
     "prompt_number": 3
    },
    {
     "cell_type": "markdown",
     "metadata": {},
     "source": [
      "\u6b21\u306e\u30b3\u30de\u30f3\u30c9\u3067\u3001m\u306b\u8a2d\u5b9a\u3057\u305f\u30e1\u30c3\u30b7\u30e5\u3092Paraview\u306e\u30b9\u30af\u30ea\u30d7\u30c8\u3067png\u753b\u50cf\u306b\u6253\u3061\u51fa\u3057\u78ba\u8a8d\u3057\u307e\u3059\u3002"
     ]
    },
    {
     "cell_type": "code",
     "collapsed": false,
     "input": [
      "m.export_to_vtk('m.vtk')"
     ],
     "language": "python",
     "metadata": {},
     "outputs": [],
     "prompt_number": 4
    },
    {
     "cell_type": "markdown",
     "metadata": {},
     "source": [
      "\u4ee5\u4e0b\u306e\u3088\u3046\u306bpython\u30d5\u30a1\u30a4\u30eb\u306b\u66f8\u304d\u8fbc\u307f\u5b9f\u884c\u3057\u3066png\u753b\u50cf\u306b\u6253\u3061\u51fa\u3057\u307e\u3059\u3002\u8907\u96d1\u306b\u898b\u3048\u307e\u3059\u304c\u3001Paraview\u306e\u30de\u30af\u30ed\u306e\u8a18\u9332\u3067\u4f5c\u6210\u3057\u305f\u3082\u306e\u3067\u3059\u306e\u3067\u3001\u4f5c\u6210\u306f\u96e3\u3057\u304f\u3042\u308a\u307e\u305b\u3093\u3002"
     ]
    },
    {
     "cell_type": "code",
     "collapsed": false,
     "input": [
      "%%writefile plot.py\n",
      "try: paraview.simple\n",
      "except: from paraview.simple import *\n",
      "paraview.simple._DisableFirstRenderCameraReset()\n",
      "\n",
      "m_vtk = LegacyVTKReader( FileNames=['m.vtk'] )\n",
      "\n",
      "RenderView2 = CreateRenderView()\n",
      "RenderView2.CompressorConfig = 'vtkSquirtCompressor 0 3'\n",
      "RenderView2.UseLight = 1\n",
      "RenderView2.LightSwitch = 0\n",
      "RenderView2.Background = [0.31999694819562063, 0.3400015259021897, 0.4299992370489052]\n",
      "RenderView2.CenterOfRotation = [9.392949104309082, 1.5, 0.0]\n",
      "\n",
      "AnimationScene1 = GetAnimationScene()\n",
      "AnimationScene1.ViewModules = RenderView2\n",
      "\n",
      "DataRepresentation2 = Show()\n",
      "DataRepresentation2.ScaleFactor = 8.50093994140625\n",
      "DataRepresentation2.ScalarOpacityUnitDistance = 8.145737909998818\n",
      "DataRepresentation2.EdgeColor = [0.0, 0.0, 0.5000076295109483]\n",
      "\n",
      "RenderView2.CameraPosition = [9.392949104309082, 1.5, 183.2819944361333]\n",
      "RenderView2.OrientationAxesVisibility = 0\n",
      "RenderView2.CameraClippingRange = [96.86482207477977, 292.5054971187886]\n",
      "RenderView2.RemoteRenderThreshold = 3.0\n",
      "RenderView2.Background = [1.0, 1.0, 1.0]\n",
      "RenderView2.CameraFocalPoint = [9.392949104309082, 1.5, 0.0]\n",
      "RenderView2.CenterAxesVisibility = 0\n",
      "RenderView2.CameraParallelScale = 57.398613649179126\n",
      "RenderView2.OrientationAxesLabelColor = [0.0, 0.0, 0.0]\n",
      "\n",
      "DataRepresentation2.EdgeColor = [0.0, 0.0, 0.0]\n",
      "DataRepresentation2.DiffuseColor = [0.0, 0.0, 0.0]\n",
      "DataRepresentation2.ColorArrayName = ('POINT_DATA', '')\n",
      "DataRepresentation2.AmbientColor = [0.0, 0.0, 0.0]\n",
      "DataRepresentation2.SelectionColor = [0.0, 0.0, 0.0]\n",
      "DataRepresentation2.BackfaceDiffuseColor = [0.0, 0.0, 0.0]\n",
      "DataRepresentation2.CubeAxesColor = [0.0, 0.0, 0.0]\n",
      "DataRepresentation2.Representation = 'Wireframe'\n",
      "\n",
      "a1_vtkEdgeFlags_PVLookupTable = GetLookupTableForArray( \"vtkEdgeFlags\", 1, RGBPoints=[0.0, 0.23, 0.299, 0.754, 0.5, 0.865, 0.865, 0.865, 1.0, 0.706, 0.016, 0.15], VectorMode='Magnitude', NanColor=[0.25, 0.0, 0.0], ColorSpace='Diverging', ScalarRangeInitialized=1.0 )\n",
      "\n",
      "a1_vtkEdgeFlags_PiecewiseFunction = CreatePiecewiseFunction( Points=[0.0, 0.0, 0.5, 0.0, 1.0, 1.0, 0.5, 0.0] )\n",
      "\n",
      "WriteImage('m1.png')\n",
      "DataRepresentation2.ScalarOpacityFunction = a1_vtkEdgeFlags_PiecewiseFunction\n",
      "DataRepresentation2.LookupTable = a1_vtkEdgeFlags_PVLookupTable\n",
      "\n",
      "a1_vtkEdgeFlags_PVLookupTable.ScalarOpacityFunction = a1_vtkEdgeFlags_PiecewiseFunction\n",
      "\n",
      "\n",
      "\n",
      "RenderView2.CameraViewUp = [0.0, 0.0, 1.0]\n",
      "RenderView2.CameraPosition = [9.392949104309082, -220.27121326772138, 0.0]\n",
      "RenderView2.CameraFocalPoint = [9.392949104309082, 1.5, 0.0]\n",
      "RenderView2.CameraClippingRange = [196.66850113504415, 253.90528146673722]\n",
      "\n",
      "WriteImage('m2.png')\n",
      "\n",
      "\n",
      "Render()"
     ],
     "language": "python",
     "metadata": {},
     "outputs": [],
     "prompt_number": 5
    },
    {
     "cell_type": "code",
     "collapsed": false,
     "input": [
      "!python plot.py"
     ],
     "language": "python",
     "metadata": {},
     "outputs": [],
     "prompt_number": 6
    },
    {
     "cell_type": "markdown",
     "metadata": {},
     "source": [
      "\u6a2a\u3068\u4e0a\u304b\u3089\u898b\u305f\u30e1\u30c3\u30b7\u30e5\u56f3\u3067\u3059\u3002\u4e09\u811a\u306e\u30e1\u30c3\u30b7\u30e5\u30d5\u30a1\u30a4\u30eb\u3067\u3042\u308b\u3053\u3068\u304c\u308f\u304b\u308a\u307e\u3059\u3002"
     ]
    },
    {
     "cell_type": "code",
     "collapsed": false,
     "input": [
      "from IPython.core.display import Image\n",
      "Image('m1.png')\n"
     ],
     "language": "python",
     "metadata": {},
     "outputs": [],
     "prompt_number": 7
    },
    {
     "cell_type": "markdown",
     "metadata": {},
     "source": [
      "\u4eca\u56de\u306f\u3053\u306e\u9802\u70b9\u90e8\u5206\u306b\u8377\u91cd(NEUMANN\u6761\u4ef6)\u3001\u4e0b\u7aef\u306b\u56fa\u5b9a\u6761\u4ef6(DIRICHLET\u6761\u4ef6)\u3092\u4e0e\u3048\u5909\u4f4d\u3092\u8a08\u7b97\u3059\u308b\u3053\u3068\u306b\u3057\u307e\u3059\u3002"
     ]
    },
    {
     "cell_type": "code",
     "collapsed": false,
     "input": [
      "from IPython.core.display import Image\n",
      "Image('m2.png')"
     ],
     "language": "python",
     "metadata": {},
     "outputs": [],
     "prompt_number": 8
    },
    {
     "cell_type": "markdown",
     "metadata": {},
     "source": [
      "# FEM\u3068\u7acb\u4f53\u6c42\u7a4d\u6cd5\u306e\u8a2d\u5b9a\n",
      "\u5909\u6570m\u306b\u30bb\u30c3\u30c8\u3055\u308c\u305f\u30e1\u30c3\u30b7\u30e5\u304b\u3089\u305d\u308c\u305e\u308c\u5909\u4f4d\u5fdc\u7b54\u683c\u7d0d\u7528\u306e\u5909\u6570\u3068\u5404\u7bc0\u70b9\u30c7\u30fc\u30bf\u64cd\u4f5c\u7528\u306e\u5909\u6570\u3092\u4f5c\u6210\u3057\u3066\u304a\u304d\u307e\u3059\u3002GetFEM++\u306e\u7279\u5fb4\u3068\u3057\u3066\u7a4d\u5206\u6cd5\u306e\u9078\u629e\u80a2\u306e\u591a\u3055\u304c\u3042\u308a\u307e\u3059\u3002"
     ]
    },
    {
     "cell_type": "code",
     "collapsed": false,
     "input": [
      "mfu = gf.MeshFem(m,3) # displacement\n",
      "mfd = gf.MeshFem(m,1) # data"
     ],
     "language": "python",
     "metadata": {},
     "outputs": [],
     "prompt_number": 9
    },
    {
     "cell_type": "markdown",
     "metadata": {},
     "source": [
      "mfu\u3068mfd\u306b\u306f\u305d\u308c\u305e\u308cLagrange\u8981\u7d20$Q_3$\u3068$Q_1$\u304c\u5165\u308a\u307e\u3059\u3002$Q_3$\u306f\u5909\u4f4d\u7528\u3001$Q_1$\u306fMises\u5fdc\u529b\u306a\u3069\u306e\u30c7\u30fc\u30bf\u7528\u306b\u6e96\u5099\u3057\u305f\u3082\u306e\u3067\u3059\u3002\n",
      "FEM\u624b\u6cd5\u3068\u3057\u3066\u53e4\u5178\u7684\u306aLagrange\u8981\u7d20$P_k$\u3092\u5272\u308a\u5f53\u3066\u307e\u3059\u3002\n",
      "\n",
      "| degree               | dimension            | d.o.f. number                        | class        | vectorial                | $\\tau$-equivalent        | Polynomial   |\n",
      "|:--------------------:|:--------------------:|:------------------------------------:|:------------:|:------------------------:|:------------------------:|:------------:|\n",
      "| $K,0\\leq K\\leq255$   | $P,1\\leq K\\leq255$   | $\\dfrac{\\left(K+P\\right)!}{K!P!}$    | $C^0$        | No$\\left(Q=1\\right)$     | Yes$\\left(M=Id\\right)$   | Yes          |\n"
     ]
    },
    {
     "cell_type": "code",
     "collapsed": false,
     "input": [
      "mfu.set_fem(gf.Fem('FEM_PK(3,1)'))\n",
      "mfd.set_fem(gf.Fem('FEM_PK(3,0)'))"
     ],
     "language": "python",
     "metadata": {},
     "outputs": [],
     "prompt_number": 10
    },
    {
     "cell_type": "markdown",
     "metadata": {},
     "source": [
      "\u7acb\u4f53\u6c42\u7a4d\u6cd5\u306b\u306f15\u7a4d\u5206\u70b9\u30fb5\u6b21\u306etetrahedron\u3092\u4f7f\u7528\u3057\u307e\u3059\u3002\n",
      "\n",
      "<img src=\"getfemlistintmethodtetrahedron5.png\">\n"
     ]
    },
    {
     "cell_type": "code",
     "collapsed": false,
     "input": [
      "mim = gf.MeshIm(m,gf.Integ('IM_TETRAHEDRON(5)'))"
     ],
     "language": "python",
     "metadata": {},
     "outputs": [],
     "prompt_number": 11
    },
    {
     "cell_type": "markdown",
     "metadata": {},
     "source": [
      "# \u9818\u57df\u306e\u5b9a\u7fa9\n",
      "\u6b21\u306b\u9818\u57df\u3092\u5b9a\u7fa9\u3057\u3001\u5883\u754c\u6761\u4ef6\u3092\u8a2d\u5b9a\u3059\u308b\u5e03\u77f3\u3068\u3057\u307e\u3059\u3002\u4eca\u56de\u306f\u4e09\u811a\u306e\u4e0a\u7aef\u306bNEUMANN\u6761\u4ef6\u3092\u3001\u4e0b\u7aef\u306bDIRICHLET\u6761\u4ef6\u3092\u8a2d\u5b9a\u3057\u307e\u3059\u3002\n",
      "\u5927\u304d\u6d41\u308c\u3068\u3057\u3066\u306f\u4ee5\u4e0b\u306e\u901a\u308a\u3067\u3059\u3002\n",
      "\n",
      "* \u7bc0\u70b9\u306e\u5ea7\u6a19\u3092\u53d6\u5f97\n",
      "* \u7bc0\u70b9\u304c\u9818\u57df\u306b\u5c5e\u3057\u3066\u3044\u308b\u304b\u306e\u771f\u507d\u8868\u306e\u914d\u5217\u3092\u4f5c\u6210\n",
      "* \u9818\u57df\u306b\u5c5e\u3057\u3066\u3044\u308b\u7bc0\u70b9\u306e\u307f\u7bc0\u70b9\u756a\u53f7\u3092\u629c\u304d\u51fa\u3059\n",
      "* \u7bc0\u70b9\u756a\u53f7\u304b\u3089\u8981\u7d20\u306e\u9762\u306e\u60c5\u5831\u3092\u629c\u304d\u51fa\u3059\n",
      "* \u8981\u7d20\u756a\u53f7\u3068\u9762\u756a\u53f7\u306e\u60c5\u5831\u3092\u5143\u306b\u9818\u57df\u306b\u756a\u53f7\u3092\u3064\u3051\u308b"
     ]
    },
    {
     "cell_type": "markdown",
     "metadata": {},
     "source": [
      "##\u7bc0\u70b9\u306e\u5ea7\u6a19\u3092\u53d6\u5f97\n",
      "\n",
      "\u30e1\u30c3\u30b7\u30e5m\u306e\u7bc0\u70b9\u306e\u5ea7\u6a19\u3092\u51fa\u529b\u3059\u308b\u305f\u3081\u306b\u306f\u3001m.pts()\u3092\u4f7f\u7528\u3057\u307e\u3059\u3002\u3053\u306e\u95a2\u6570\u306b\u3088\u308a\u884c\u65b9\u5411\u304cXYZ\u8ef8\u3001\u5217\u65b9\u5411\u304c\u5404\u7bc0\u70b9\u3092\u610f\u5473\u3057\u3066\u3044\u308b\u5ea7\u6a19\u306e\u914d\u5217\u304c\u5f97\u3089\u308c\u307e\u3059\u3002"
     ]
    },
    {
     "cell_type": "code",
     "collapsed": false,
     "input": [
      "P = m.pts()\n",
      "print P"
     ],
     "language": "python",
     "metadata": {},
     "outputs": [],
     "prompt_number": 12
    },
    {
     "cell_type": "markdown",
     "metadata": {},
     "source": [
      "Paraview\u3067\u5148\u307b\u3069\u51fa\u529b\u3057\u305f\u30e1\u30c3\u30b7\u30e5\u3092\u78ba\u8a8d\u3057\u3066\u307f\u308b\u3068Y\u5ea7\u6a19\u304c\u6700\u5927\u306b\u306a\u3063\u3066\u3044\u308b\u90e8\u5206\u306b\u4e09\u811a\u306e\u4e0a\u7aef\u304c\u3001Y\u5ea7\u6a19\u304c\u6700\u5c0f\u306b\u306a\u3063\u3066\u3044\u308b\u90e8\u5206\u306b\u4e09\u811a\u306e\u4e0b\u7aef\u304c\u3042\u308b\u3053\u3068\u304c\u308f\u304b\u308a\u307e\u3059\u3002\u305d\u308c\u305e\u308c\u306e\u5ea7\u6a19\u3092P\u3067\u78ba\u8a8d\u3057\u3066\u304a\u304d\u307e\u3057\u3087\u3046\u3002"
     ]
    },
    {
     "cell_type": "code",
     "collapsed": false,
     "input": [
      "print 'Ymax = ', P[1,:].max()\n",
      "print 'Ymin = ', P[1,:].min()"
     ],
     "language": "python",
     "metadata": {},
     "outputs": [],
     "prompt_number": 13
    },
    {
     "cell_type": "markdown",
     "metadata": {},
     "source": [
      "## \u7bc0\u70b9\u304c\u9818\u57df\u306b\u5c5e\u3057\u3066\u3044\u308b\u304b\u306e\u771f\u507d\u8868\u306e\u914d\u5217\u3092\u4f5c\u6210\n",
      "Y\u5ea7\u6a19\u4e0a\u306e\u6700\u5927\u5024\u3068\u6700\u5c0f\u5024\u304c\u308f\u304b\u308a\u307e\u3057\u305f\u306e\u3067\u3001\u305d\u306e\u90e8\u5206\u306b\u7bc0\u70b9\u304c\u5c5e\u3057\u3066\u3044\u308b\u304b\u306e\u771f\u507d\u8868\u306e\u914d\u5217\u3092\u4f5c\u308a\u307e\u3059\u3002\u9802\u90e8(ctop)\u306f\u6700\u5927\u5024$13$\u3068\u306e\u5dee\u304c$10^{-6}$\u306e\u5834\u5408\u306b\u7bc0\u70b9\u304c\u9818\u57df\u306b\u542b\u307e\u308c\u3066\u3044\u308b\u3068\u307f\u306a\u3057\u3001\u4e0b\u7aef\u306f\u6700\u5c0f\u5024$-10$\u3068\u306e\u5dee\u304c$10^{-6}$\u306e\u5834\u5408\u306b\u9818\u57df\u306b\u305e\u304f\u3057\u3066\u3044\u308b\u3068\u307f\u306a\u3057\u307e\u3059\u3002"
     ]
    },
    {
     "cell_type": "code",
     "collapsed": false,
     "input": [
      "ctop = (abs(P[1,:] - 13) < 1e-6)\n",
      "print 'ctop = ', ctop\n",
      "cbot = (abs(P[1,:] + 10) < 1e-6)\n",
      "print 'cbot = ', cbot"
     ],
     "language": "python",
     "metadata": {},
     "outputs": [],
     "prompt_number": 14
    },
    {
     "cell_type": "markdown",
     "metadata": {},
     "source": [
      "## \u9818\u57df\u306b\u5c5e\u3057\u3066\u3044\u308b\u7bc0\u70b9\u306e\u307f\u7bc0\u70b9\u756a\u53f7\u3092\u629c\u304d\u51fa\u3059\n",
      "\u6b21\u306b\u9818\u57df\u306b\u5c5e\u3057\u3066\u3044\u308b\u7bc0\u70b9\u306e\u307f\u7bc0\u70b9\u756a\u53f7\u3092\u629c\u304d\u51fa\u3057\u307e\u3059\u3002\u610f\u56f3\u3057\u305f\u64cd\u4f5c\u306fNumpy\u306ecompress\u95a2\u6570\u3068Python\u306erange\u95a2\u6570\u3067\u53ef\u80fd\u3067\u3059\u3002\u3061\u306a\u307f\u306b\u3001m.nbpts\u306f\u30e1\u30c3\u30b7\u30e5m\u306e\u7bc0\u70b9\u6570(Number of Points)\u3092\u610f\u5473\u3057\u3066\u3044\u307e\u3059\u3002"
     ]
    },
    {
     "cell_type": "code",
     "collapsed": false,
     "input": [
      "pidtop = np.compress(ctop,range(0,m.nbpts()))\n",
      "pidbot = np.compress(cbot,range(0,m.nbpts()))\n",
      "print 'pidtop = ', pidtop\n",
      "print 'pidbot = ', pidbot"
     ],
     "language": "python",
     "metadata": {},
     "outputs": [],
     "prompt_number": 15
    },
    {
     "cell_type": "markdown",
     "metadata": {},
     "source": [
      "# \u7bc0\u70b9\u756a\u53f7\u304b\u3089\u8981\u7d20\u306e\u9762\u306e\u60c5\u5831\u3092\u629c\u304d\u51fa\u3059\n",
      "\u6b21\u306b\u7bc0\u70b9\u756a\u53f7\u304b\u3089\u8981\u7d20\u306e\u9762\u3092\u683c\u7d0d\u3057\u305f\u914d\u5217\u3092\u4f5c\u6210\u3057\u307e\u3059\u3002\u3053\u306e\u64cd\u4f5c\u306f\u30e1\u30c3\u30b7\u30e5m\u306b\u5bfe\u3057\u3066m.faces_from_pid()\u306e\u95a2\u6570\u3067\u64cd\u4f5c\u53ef\u80fd\u3067\u3059\u3002\u3053\u306e\u914d\u5217\u306b\u306f\uff11\u5217\u76ee\u306b\u8981\u7d20\u756a\u53f7\u3001\uff12\u5217\u76ee\u306b\u8981\u7d20\u5185\u3067\u306e\u9762\u756a\u53f7\u3092\u683c\u7d0d\u3057\u3066\u3044\u307e\u3059\u3002"
     ]
    },
    {
     "cell_type": "code",
     "collapsed": false,
     "input": [
      "ftop = m.faces_from_pid(pidtop)\n",
      "fbot = m.faces_from_pid(pidbot)\n",
      "print 'ftop = ', ftop\n",
      "print 'fbot = ', fbot"
     ],
     "language": "python",
     "metadata": {},
     "outputs": [],
     "prompt_number": 16
    },
    {
     "cell_type": "markdown",
     "metadata": {},
     "source": [
      "## \u8981\u7d20\u756a\u53f7\u3068\u9762\u756a\u53f7\u306e\u60c5\u5831\u3092\u5143\u306b\u9818\u57df\u306b\u756a\u53f7\u3092\u3064\u3051\u308b\n",
      "\u6700\u5f8c\u306b\u3001\u9762\u306e\u60c5\u5831\u3092\u5143\u306b\u30e1\u30c3\u30b7\u30e5m\u306b\u5883\u754c\u9818\u57df\u3092\u4f5c\u6210\u3057\u4ed8\u756a\u3057\u307e\u3059\u3002\u4f7f\u7528\u3059\u308b\u95a2\u6570\u306fm.set_region\u3067\u3059\u3002"
     ]
    },
    {
     "cell_type": "code",
     "collapsed": false,
     "input": [
      "NEUMANN_BOUNDARY = 1\n",
      "DIRICHLET_BOUNDARY = 2\n",
      "m.set_region(NEUMANN_BOUNDARY,ftop)\n",
      "m.set_region(DIRICHLET_BOUNDARY,fbot)"
     ],
     "language": "python",
     "metadata": {},
     "outputs": [],
     "prompt_number": 17
    },
    {
     "cell_type": "markdown",
     "metadata": {},
     "source": [
      "# \u5916\u529b\u30d9\u30af\u30c8\u30eb\u3068\u525b\u6027\u30de\u30c8\u30ea\u30c3\u30af\u30b9\u306e\u7d44\u307f\u7acb\u3066\n",
      "\u4ee5\u4e0a\u3067\u8a2d\u5b9a\u3057\u305f\u6761\u4ef6\u3092\u4f7f\u7528\u3057\u3066\u5916\u529b\u30d9\u30af\u30c8\u30eb\u3068\u525b\u6027\u884c\u5217\u3092\u8a2d\u5b9a\u3057\u307e\u3059\u3002"
     ]
    },
    {
     "cell_type": "code",
     "collapsed": false,
     "input": [
      "nbd = mfd.nbdof()\n",
      "F = gf.asm_boundary_source(NEUMANN_BOUNDARY, mim, mfu, mfd, np.repeat([[0],[-100],[0]],nbd,1))\n",
      "K = gf.asm_linear_elasticity(mim, mfu, mfd, np.repeat([Lambda], nbd), np.repeat([Mu], nbd))"
     ],
     "language": "python",
     "metadata": {},
     "outputs": [],
     "prompt_number": 18
    },
    {
     "cell_type": "markdown",
     "metadata": {},
     "source": [
      "# \u56fa\u5b9a\u6761\u4ef6\u306e\u8a2d\u5b9a\n",
      "DIRICHLET\u6761\u4ef6(\u56fa\u5b9a\u7aef\u6761\u4ef6)\u306e\u8a2d\u5b9a\u3092\u3057\u307e\u3059\u3002DIRICHLET\u6761\u4ef6\u306f\u4ee5\u4e0b\u306e\u3088\u3046\u306a\u5f0f\u3067\u8868\u3055\u308c\u308b\u5883\u754c\u6761\u4ef6\u3067\u3059\u3002\n",
      "\n",
      "$HU = R$\n",
      "\n",
      "\u56fa\u5b9a\u6761\u4ef6\u3092\u4e0e\u3048\u308b\u5834\u5408\u306f\u5bfe\u8c61\u9818\u57df\u306e\u7bc0\u70b9\u306b\n",
      "\n",
      "$\\left[\\begin{array}{ccc}\n",
      "1\\\\\n",
      " & 1\\\\\n",
      " &  & 1\n",
      "\\end{array}\\right]\\left\\{ \\begin{array}{c}\n",
      "U_{x}\\\\\n",
      "U_{y}\\\\\n",
      "U_{z}\n",
      "\\end{array}\\right\\} =\\left\\{ \\begin{array}{c}\n",
      "0\\\\\n",
      "0\\\\\n",
      "0\n",
      "\\end{array}\\right\\} $\n",
      "\n",
      "\u306e\u95a2\u4fc2\u3092\u4e0e\u3048\u308b\u5fc5\u8981\u304c\u3042\u308a\u307e\u3059\u3002\u3059\u306a\u308f\u3061\u3001\u5bfe\u8c61\u9818\u57df\u306e\u307f\u306b\n",
      "\n",
      "$H=\\left[\\begin{array}{ccc}\n",
      "1\\\\\n",
      " & 1\\\\\n",
      " &  & 1\n",
      "\\end{array}\\right]$\u3001$R=\\left\\{ \\begin{array}{c}\n",
      "0\\\\\n",
      "0\\\\\n",
      "0\n",
      "\\end{array}\\right\\} $\n",
      "\n",
      "\u306b\u306a\u308b\u884c\u5217\u3092\u4e0e\u3048\u3066\u308c\u308b\u95a2\u6570\u304c\u5fc5\u8981\u3067\u3059\u3002\u305d\u308c\u304c\u4ee5\u4e0b\u306egf.asm_dirichlet\u95a2\u6570\u3067\u3059\u3002\n"
     ]
    },
    {
     "cell_type": "code",
     "collapsed": false,
     "input": [
      "(H,R) = gf.asm_dirichlet(DIRICHLET_BOUNDARY, mim, mfu, mfd, mfd.eval('[[1,0,0],[0,1,0],[0,0,1]]'), mfd.eval('[0,0,0]'))"
     ],
     "language": "python",
     "metadata": {},
     "outputs": [],
     "prompt_number": 19
    },
    {
     "cell_type": "markdown",
     "metadata": {},
     "source": [
      "\u3055\u3066\u3001Getfem++\u3067\u306f\u3001\u306f\u3058\u3081\u306b\u3054\u8aac\u660e\u3057\u305f\u9023\u7acb\u65b9\u7a0b\u5f0f\u306e\u554f\u984c\u3092\u4ee5\u4e0b\u306e\u3088\u3046\u306b\u8a00\u3044\u63db\u3048\u307e\u3059\u3002\n",
      "\n",
      "$KU = F$ \u305f\u3060\u3057\u3001$HU = R$\n",
      "\n",
      "$\\Downarrow$\n",
      "\n",
      "$(N^TKN)U^* = N^TF$ \u305f\u3060\u3057\u3001$U = NU^* + U_0$\n",
      "\n",
      "\u3053\u306e$N$\u306f\u4f8b\u3048\u3070\u6761\u4ef6\u304c\u56fa\u5b9a\u7aef\u306e\u5834\u5408\u306b\u306f\u305d\u306e\u81ea\u7531\u5ea6\u306e\u884c\u3068\u5217\u3092\u524a\u9664\u3059\u308b\u52b9\u679c\u304c\u3042\u308a\u307e\u3059\u3002\u3053\u306e$N$\u3068$U0$\u306f\u6b21\u306e\u95a2\u6570\u3067\u8a08\u7b97\u3067\u304d\u307e\u3059\u3002"
     ]
    },
    {
     "cell_type": "code",
     "collapsed": false,
     "input": [
      "(N,U0) = H.dirichlet_nullspace(R)\n",
      "Nt = gf.Spmat('copy',N)\n",
      "Nt.transpose()\n",
      "KK = Nt*K*N\n",
      "FF = Nt*(F-K*U0)"
     ],
     "language": "python",
     "metadata": {},
     "outputs": [],
     "prompt_number": 20
    },
    {
     "cell_type": "markdown",
     "metadata": {},
     "source": [
      "# \u5909\u4f4d\u306e\u8a08\u7b97\n",
      "\u4ee5\u4e0a\u3067\u8a08\u7b97\u3059\u308b\u3079\u304d\u9023\u7acb\u65b9\u7a0b\u5f0f\u306e\u525b\u6027\u884c\u5217\u3068\u5916\u529b\u30d9\u30af\u30c8\u30eb\u304c\u5b9a\u307e\u308a\u307e\u3057\u305f\u306e\u3067\u3001\u9023\u7acb\u65b9\u7a0b\u5f0f\u3092\u89e3\u304d\u307e\u3059\u3002Getfem++\u306e\u30e2\u30b8\u30e5\u30fc\u30eb\u3067\u525b\u6027\u884c\u5217\u304b\u3089\u30d7\u30ea\u30b3\u30f3\u30c7\u30a3\u30b7\u30e7\u30ca\u30fc\u3092\u7528\u610f\u3057\u3001\u5909\u4f4d\u3092\u8a08\u7b97\u3057\u307e\u3059\u3002"
     ]
    },
    {
     "cell_type": "code",
     "collapsed": false,
     "input": [
      "P = gf.Precond('ildlt',KK)\n",
      "UU = gf.linsolve_cg(KK,FF,P)\n",
      "U = N*UU+U0"
     ],
     "language": "python",
     "metadata": {},
     "outputs": [],
     "prompt_number": 21
    },
    {
     "cell_type": "markdown",
     "metadata": {},
     "source": [
      "# \u30dd\u30b9\u30c8\u51e6\u7406\n",
      "\u4ee5\u4e0a\u3067\u8a08\u7b97\u3057\u305f\u5909\u4f4d\u3092\u30dd\u30b9\u30c8\u51e6\u7406\u7d50\u679c\u3068\u3057\u3066\u51fa\u529b\u3057\u307e\u3059\u3002\u307e\u305a\u30b9\u30e9\u30a4\u30b9\u30e2\u30b8\u30e5\u30fc\u30eb\u3092\u4f7f\u7528\u3057\u3066\u3001\u30e1\u30c3\u30b7\u30e5\u306e\u5916\u5074\u306e\u90e8\u5206\u306e\u307f\u629c\u304d\u51fa\u3057\u307e\u3059\u3002\u6b21\u306b\u30b9\u30e9\u30a4\u30b9\u30aa\u30d6\u30b8\u30a7\u30af\u30c8\u306b\u5909\u4f4d\u306e\u8a08\u7b97\u7d50\u679c\u3068\u51e1\u4f8b\u3092\u6e21\u3057\u3066\u3001VTK\u30d5\u30a1\u30a4\u30eb\u306b\u51fa\u529b\u3057\u307e\u3059\u3002\u3053\u308c\u3067\u3001'Displacement'\u3068\u51e1\u4f8b\u306e\u3042\u308bVTK\u30d5\u30a1\u30a4\u30eb\u304c'tripod_ev.vtk'\u3068\u3044\u3046\u30d5\u30a1\u30a4\u30eb\u306b\u51fa\u529b\u3055\u308c\u305f\u3053\u3068\u306b\u306a\u308a\u307e\u3059\u3002"
     ]
    },
    {
     "cell_type": "code",
     "collapsed": false,
     "input": [
      "sl = gf.Slice(('boundary',), mfu, degree)\n",
      "sl.export_to_vtk('tripod_ev.vtk', mfu, U, 'Displacement')"
     ],
     "language": "python",
     "metadata": {},
     "outputs": [],
     "prompt_number": 22
    },
    {
     "cell_type": "code",
     "collapsed": false,
     "input": [
      "%%writefile plot.py\n",
      "try: paraview.simple\n",
      "except: from paraview.simple import *\n",
      "paraview.simple._DisableFirstRenderCameraReset()\n",
      "\n",
      "tripod_ev_vtk = LegacyVTKReader( FileNames=['tripod_ev.vtk'] )\n",
      "\n",
      "RenderView2 = CreateRenderView()\n",
      "RenderView2.CompressorConfig = 'vtkSquirtCompressor 0 3'\n",
      "RenderView2.UseLight = 1\n",
      "RenderView2.LightSwitch = 0\n",
      "RenderView2.RemoteRenderThreshold = 3.0\n",
      "RenderView2.CenterOfRotation = [9.39224910736084, 1.5, 0.0]\n",
      "\n",
      "AnimationScene1 = GetAnimationScene()\n",
      "AnimationScene1.ViewModules = RenderView2\n",
      "\n",
      "DataRepresentation2 = Show()\n",
      "DataRepresentation2.ScaleFactor = 8.50093994140625\n",
      "DataRepresentation2.ScalarOpacityUnitDistance = 9.599809856069918\n",
      "DataRepresentation2.SelectionPointFieldDataArrayName = 'Displacement'\n",
      "DataRepresentation2.EdgeColor = [0.0, 0.0, 0.0]\n",
      "\n",
      "RenderView2.CameraPosition = [9.39224910736084, 1.5, 221.76947835313635]\n",
      "RenderView2.OrientationAxesVisibility = 0\n",
      "RenderView2.CameraFocalPoint = [9.39224910736084, 1.5, 0.0]\n",
      "RenderView2.CameraClippingRange = [134.9674311526128, 331.57029329454673]\n",
      "RenderView2.Background = [1.0, 1.0, 1.0]\n",
      "RenderView2.CameraParallelScale = 57.398164620242895\n",
      "RenderView2.CenterAxesVisibility = 0\n",
      "\n",
      "a3_Displacement_PVLookupTable = GetLookupTableForArray( \"Displacement\", 3, RGBPoints=[0.0, 0.23, 0.299, 0.754, 6.571885963503576, 0.865, 0.865, 0.865, 12.804577141990409, 0.706, 0.016, 0.15], VectorMode='Magnitude', NanColor=[0.25, 0.0, 0.0], ColorSpace='Diverging', ScalarRangeInitialized=1.0 )\n",
      "\n",
      "a3_Displacement_PiecewiseFunction = CreatePiecewiseFunction( Points=[0.0, 0.0, 0.5, 0.0, 12.804577141990409, 1.0, 0.5, 0.0] )\n",
      "\n",
      "DataRepresentation2.Representation = 'Surface With Edges'\n",
      "DataRepresentation2.ScalarOpacityFunction = a3_Displacement_PiecewiseFunction\n",
      "DataRepresentation2.ColorArrayName = ('POINT_DATA', 'Displacement')\n",
      "DataRepresentation2.LookupTable = a3_Displacement_PVLookupTable\n",
      "\n",
      "WriteImage('tripod1.png')\n",
      "a3_Displacement_PVLookupTable.ScalarOpacityFunction = a3_Displacement_PiecewiseFunction\n",
      "\n",
      "\n",
      "\n",
      "RenderView2.CameraViewUp = [0.0, 0.0, 1.0]\n",
      "RenderView2.CameraPosition = [9.39224910736084, 223.26947835313635, 0.0]\n",
      "RenderView2.OrientationAxesVisibility = 0\n",
      "RenderView2.CameraClippingRange = [196.66678356960497, 253.9035205284334]\n",
      "RenderView2.CameraFocalPoint = [9.39224910736084, 1.5, 0.0]\n",
      "RenderView2.CenterAxesVisibility = 0\n",
      "\n",
      "WriteImage('tripod2.png')\n",
      "\n",
      "\n",
      "Render()\n"
     ],
     "language": "python",
     "metadata": {},
     "outputs": []
    },
    {
     "cell_type": "code",
     "collapsed": false,
     "input": [
      "!python plot.py"
     ],
     "language": "python",
     "metadata": {},
     "outputs": []
    },
    {
     "cell_type": "markdown",
     "metadata": {},
     "source": [
      "# \u7d50\u679c\u306e\u53ef\u8996\u5316\n",
      "\n",
      "\u4ee5\u4e0b\u306e\u69d8\u306b\u305d\u308c\u305e\u308c\u306e\u65b9\u5411\u304b\u3089\u898b\u305f\u5909\u4f4d\u306e\u8a08\u7b97\u7d50\u679c\u3092\u30b3\u30f3\u30bf\u30fc\u3067\u53ef\u8996\u5316\u3059\u308b\u3053\u3068\u304c\u53ef\u80fd\u3067\u3059\u3002Paraview\u3067tripod_ev.vtk\u3092\u958b\u3051\u3070\u66f4\u306b\u5909\u5f62\u56f3\u306a\u3069\u3082\u898b\u308b\u3053\u3068\u304c\u3067\u304d\u307e\u3059\u3002"
     ]
    },
    {
     "cell_type": "code",
     "collapsed": false,
     "input": [
      "from IPython.core.display import Image\n",
      "Image('tripod1.png')"
     ],
     "language": "python",
     "metadata": {},
     "outputs": []
    },
    {
     "cell_type": "code",
     "collapsed": false,
     "input": [
      "from IPython.core.display import Image\n",
      "Image('tripod2.png')\n"
     ],
     "language": "python",
     "metadata": {},
     "outputs": []
    },
    {
     "cell_type": "markdown",
     "metadata": {},
     "source": [
      "# \u307e\u3068\u3081\n",
      "\n",
      "\u4ee5\u4e0a\u3001\u30e1\u30c3\u30b7\u30e5\u306e\u8aad\u307f\u8fbc\u307f\u304b\u3089\u8981\u7d20\u3068\u7a4d\u5206\u70b9\u306e\u8a2d\u5b9a\u3001\u9818\u57df\u3068\u5883\u754c\u6761\u4ef6\u306e\u5b9a\u7fa9\u304b\u3089\u5909\u4f4d\u306e\u8a08\u7b97\u306e\u30dd\u30b9\u30c8\u51fa\u529b\u307e\u3067\u3092\u884c\u3044\u307e\u3057\u305f\u3002\u3082\u3068\u3082\u3068\u3001Python\u306f\u884c\u5217\u306e\u64cd\u4f5c\u304c\u3068\u3066\u3082\u7c21\u5358\u3067\u3042\u308b\u305f\u3081\u3001Getfem++\u306e\u30e2\u30b8\u30e5\u30fc\u30eb\u3092\u4f7f\u7528\u3059\u308b\u3053\u3068\u306b\u3088\u308a\u6709\u9650\u8981\u7d20\u6cd5\u306e\u5b9f\u65bd\u304c\u53ef\u80fd\u3067\u3059\u3002\n",
      "\n",
      "\u4eca\u5f8c\u306e\u8a71\u984c\u3068\u3057\u3066\u4ee5\u4e0b\u306e\u3088\u3046\u306a\u3082\u306e\u3092\u7528\u610f\u3057\u3066\u3044\u307e\u3059\u3002\n",
      "\n",
      "* Python\u306b\u3088\u308b\u6709\u9650\u8981\u7d20\u6cd5\u306e\u56fa\u6709\u5024\u89e3\u6790(\u69cb\u9020)\n",
      "\n",
      "* Python\u306b\u3088\u308b\u6642\u523b\u6b74\u5fdc\u7b54\u89e3\u6790(\u69cb\u9020)\n"
     ]
    },
    {
     "cell_type": "code",
     "collapsed": false,
     "input": [],
     "language": "python",
     "metadata": {},
     "outputs": []
    }
   ],
   "metadata": {}
  }
 ]
}