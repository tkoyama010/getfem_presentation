{
 "metadata": {
  "name": "",
  "signature": "sha256:6519413bcacea6d5969ec6ea81a7298bd09f71e4639d761e5febc71f65f768dd"
 },
 "nbformat": 3,
 "nbformat_minor": 0,
 "worksheets": [
  {
   "cells": [
    {
     "cell_type": "code",
     "collapsed": false,
     "input": [
      "import getfem as gf\n",
      "import numpy as np\n"
     ],
     "language": "python",
     "metadata": {},
     "outputs": [],
     "prompt_number": 1
    },
    {
     "cell_type": "code",
     "collapsed": false,
     "input": [
      "# parameters\n",
      "file_msh = 'tripod.GiD.msh'\n",
      "degree = 2\n",
      "linear = False\n",
      "incompressible = False # ensure that degree > 1 when incompressible is on..\n",
      "E = 1e3\n",
      "Nu = 0.3\n",
      "Lambda = E*Nu/((1+Nu)*(1-2*Nu))\n",
      "Mu = E/(2*(1+Nu))\n"
     ],
     "language": "python",
     "metadata": {},
     "outputs": [],
     "prompt_number": 2
    },
    {
     "cell_type": "code",
     "collapsed": false,
     "input": [
      "# create a Mesh object (importing)\n",
      "m = gf.Mesh('import','gid',file_msh)\n",
      "m.set('optimize_structure')\n",
      "m.export_to_vtk('m.vtk')\n"
     ],
     "language": "python",
     "metadata": {},
     "outputs": [],
     "prompt_number": 3
    },
    {
     "cell_type": "code",
     "collapsed": false,
     "input": [
      "try: paraview.simple\n",
      "except: from paraview.simple import *\n",
      "paraview.simple._DisableFirstRenderCameraReset()\n",
      "\n",
      "m_vtk = LegacyVTKReader( FileNames=['m.vtk'] )\n",
      "\n",
      "RenderView2 = CreateRenderView()\n",
      "RenderView2.CompressorConfig = 'vtkSquirtCompressor 0 3'\n",
      "RenderView2.UseLight = 1\n",
      "RenderView2.LightSwitch = 0\n",
      "RenderView2.Background = [0.31999694819562063, 0.3400015259021897, 0.4299992370489052]\n",
      "RenderView2.CenterOfRotation = [9.392949104309082, 1.5, 0.0]\n",
      "\n",
      "AnimationScene1 = GetAnimationScene()\n",
      "AnimationScene1.ViewModules = RenderView2\n",
      "\n",
      "DataRepresentation2 = Show()\n",
      "DataRepresentation2.ScaleFactor = 8.50093994140625\n",
      "DataRepresentation2.ScalarOpacityUnitDistance = 8.145737909998818\n",
      "DataRepresentation2.EdgeColor = [0.0, 0.0, 0.5000076295109483]\n",
      "\n",
      "RenderView2.CameraPosition = [9.392949104309082, 1.5, 183.2819944361333]\n",
      "RenderView2.OrientationAxesVisibility = 0\n",
      "RenderView2.CameraClippingRange = [96.86482207477977, 292.5054971187886]\n",
      "RenderView2.RemoteRenderThreshold = 3.0\n",
      "RenderView2.Background = [1.0, 1.0, 1.0]\n",
      "RenderView2.CameraFocalPoint = [9.392949104309082, 1.5, 0.0]\n",
      "RenderView2.CenterAxesVisibility = 0\n",
      "RenderView2.CameraParallelScale = 57.398613649179126\n",
      "RenderView2.OrientationAxesLabelColor = [0.0, 0.0, 0.0]\n",
      "\n",
      "DataRepresentation2.EdgeColor = [0.0, 0.0, 0.0]\n",
      "DataRepresentation2.DiffuseColor = [0.0, 0.0, 0.0]\n",
      "DataRepresentation2.ColorArrayName = ('POINT_DATA', '')\n",
      "DataRepresentation2.AmbientColor = [0.0, 0.0, 0.0]\n",
      "DataRepresentation2.SelectionColor = [0.0, 0.0, 0.0]\n",
      "DataRepresentation2.BackfaceDiffuseColor = [0.0, 0.0, 0.0]\n",
      "DataRepresentation2.CubeAxesColor = [0.0, 0.0, 0.0]\n",
      "DataRepresentation2.Representation = 'Wireframe'\n",
      "\n",
      "a1_vtkEdgeFlags_PVLookupTable = GetLookupTableForArray( \"vtkEdgeFlags\", 1, RGBPoints=[0.0, 0.23, 0.299, 0.754, 0.5, 0.865, 0.865, 0.865, 1.0, 0.706, 0.016, 0.15], VectorMode='Magnitude', NanColor=[0.25, 0.0, 0.0], ColorSpace='Diverging', ScalarRangeInitialized=1.0 )\n",
      "\n",
      "a1_vtkEdgeFlags_PiecewiseFunction = CreatePiecewiseFunction( Points=[0.0, 0.0, 0.5, 0.0, 1.0, 1.0, 0.5, 0.0] )\n",
      "\n",
      "WriteImage('m1.png')\n",
      "DataRepresentation2.ScalarOpacityFunction = a1_vtkEdgeFlags_PiecewiseFunction\n",
      "DataRepresentation2.LookupTable = a1_vtkEdgeFlags_PVLookupTable\n",
      "\n",
      "a1_vtkEdgeFlags_PVLookupTable.ScalarOpacityFunction = a1_vtkEdgeFlags_PiecewiseFunction\n",
      "\n",
      "\n",
      "\n",
      "RenderView2.CameraViewUp = [0.0, 0.0, 1.0]\n",
      "RenderView2.CameraPosition = [9.392949104309082, -220.27121326772138, 0.0]\n",
      "RenderView2.CameraFocalPoint = [9.392949104309082, 1.5, 0.0]\n",
      "RenderView2.CameraClippingRange = [196.66850113504415, 253.90528146673722]\n",
      "\n",
      "WriteImage('m2.png')\n",
      "\n",
      "\n",
      "Render()\n"
     ],
     "language": "python",
     "metadata": {},
     "outputs": []
    },
    {
     "cell_type": "code",
     "collapsed": false,
     "input": [
      "# create a MeshFem object\n",
      "mfu = gf.MeshFem(m,3) # displacement\n",
      "mfe = gf.MeshFem(m,3) # for plot displacement\n",
      "mfd = gf.MeshFem(m,1) # data"
     ],
     "language": "python",
     "metadata": {},
     "outputs": [],
     "prompt_number": 4
    },
    {
     "cell_type": "code",
     "collapsed": false,
     "input": [
      "# assign the FEM\n",
      "degree = 1\n",
      "mfu.set_fem(gf.Fem('FEM_PK(3,%d)' % (degree,)));\n",
      "mfe.set_fem(gf.Fem('FEM_PK_DISCONTINUOUS(3,1,0.01)'))\n",
      "mfd.set_fem(gf.Fem('FEM_PK(3,0)'))\n"
     ],
     "language": "python",
     "metadata": {},
     "outputs": [],
     "prompt_number": 5
    },
    {
     "cell_type": "code",
     "collapsed": false,
     "input": [
      "# build a MeshIm object\n",
      "mim = gf.MeshIm(m,gf.Integ('IM_TETRAHEDRON(5)'))\n"
     ],
     "language": "python",
     "metadata": {},
     "outputs": [],
     "prompt_number": 6
    },
    {
     "cell_type": "code",
     "collapsed": false,
     "input": [
      "# detect some boundary of the mesh\n",
      "P = m.pts()\n",
      "ctop = (abs(P[1,:] - 13) < 1e-6)\n",
      "cbot = (abs(P[1,:] + 10) < 1e-6)\n",
      "pidtop = np.compress(ctop,range(0,m.nbpts()))\n",
      "pidbot = np.compress(cbot,range(0,m.nbpts()))\n",
      "ftop = m.faces_from_pid(pidtop)\n",
      "fbot = m.faces_from_pid(pidbot)\n"
     ],
     "language": "python",
     "metadata": {},
     "outputs": [],
     "prompt_number": 7
    },
    {
     "cell_type": "code",
     "collapsed": false,
     "input": [
      "# create boundary region\n",
      "NEUMANN_BOUNDARY = 1\n",
      "DIRICHLET_BOUNDARY = 2\n",
      "m.set_region(NEUMANN_BOUNDARY,ftop)\n",
      "m.set_region(DIRICHLET_BOUNDARY,fbot)\n"
     ],
     "language": "python",
     "metadata": {},
     "outputs": [],
     "prompt_number": 8
    },
    {
     "cell_type": "code",
     "collapsed": false,
     "input": [
      "# assembly\n",
      "nbd = mfd.nbdof()\n",
      "F = gf.asm_boundary_source(NEUMANN_BOUNDARY, mim, mfu, mfd, np.repeat([[0],[-100],[0]],nbd,1))\n",
      "K = gf.asm_linear_elasticity(mim, mfu, mfd, np.repeat([Lambda], nbd), np.repeat([Mu], nbd))\n"
     ],
     "language": "python",
     "metadata": {},
     "outputs": [],
     "prompt_number": 9
    },
    {
     "cell_type": "code",
     "collapsed": false,
     "input": [
      "# handle Dirichlet condition\n",
      "(H,R) = gf.asm_dirichlet(DIRICHLET_BOUNDARY, mim, mfu, mfd, mfd.eval('[[1,0,0],[0,1,0],[0,0,1]]'), mfd.eval('[0,0,0]'))\n",
      "(N,U0) = H.dirichlet_nullspace(R)\n",
      "\n",
      "Nt = gf.Spmat('copy',N)\n",
      "Nt.transpose()\n",
      "KK = Nt*K*N\n",
      "FF = Nt*F # FF = Nt*(F-K*U0)\n"
     ],
     "language": "python",
     "metadata": {},
     "outputs": [],
     "prompt_number": 10
    },
    {
     "cell_type": "code",
     "collapsed": false,
     "input": [
      "# solve ...\n",
      "P = gf.Precond('ildlt',KK)\n",
      "UU = gf.linsolve_cg(KK,FF,P)\n",
      "U = N*UU+U0\n"
     ],
     "language": "python",
     "metadata": {},
     "outputs": [],
     "prompt_number": 11
    },
    {
     "cell_type": "code",
     "collapsed": false,
     "input": [
      "# post-processing\n",
      "sl = gf.Slice(('boundary',), mfu, degree)\n"
     ],
     "language": "python",
     "metadata": {},
     "outputs": [],
     "prompt_number": 12
    },
    {
     "cell_type": "code",
     "collapsed": false,
     "input": [
      "# export to VTK\n",
      "sl.export_to_vtk('tripod_ev.vtk', mfu, U, 'Displacement')\n"
     ],
     "language": "python",
     "metadata": {},
     "outputs": [],
     "prompt_number": 13
    },
    {
     "cell_type": "code",
     "collapsed": false,
     "input": [
      "%%writefile plot.py\n",
      "try: paraview.simple\n",
      "except: from paraview.simple import *\n",
      "paraview.simple._DisableFirstRenderCameraReset()\n",
      "\n",
      "tripod_ev_vtk = LegacyVTKReader( FileNames=['tripod_ev.vtk'] )\n",
      "\n",
      "RenderView2 = CreateRenderView()\n",
      "RenderView2.CompressorConfig = 'vtkSquirtCompressor 0 3'\n",
      "RenderView2.UseLight = 1\n",
      "RenderView2.LightSwitch = 0\n",
      "RenderView2.RemoteRenderThreshold = 3.0\n",
      "RenderView2.CenterOfRotation = [9.39224910736084, 1.5, 0.0]\n",
      "\n",
      "AnimationScene1 = GetAnimationScene()\n",
      "AnimationScene1.ViewModules = RenderView2\n",
      "\n",
      "DataRepresentation2 = Show()\n",
      "DataRepresentation2.ScaleFactor = 8.50093994140625\n",
      "DataRepresentation2.ScalarOpacityUnitDistance = 9.599809856069918\n",
      "DataRepresentation2.SelectionPointFieldDataArrayName = 'Displacement'\n",
      "DataRepresentation2.EdgeColor = [0.0, 0.0, 0.0]\n",
      "\n",
      "RenderView2.CameraPosition = [9.39224910736084, 1.5, 221.76947835313635]\n",
      "RenderView2.OrientationAxesVisibility = 0\n",
      "RenderView2.CameraFocalPoint = [9.39224910736084, 1.5, 0.0]\n",
      "RenderView2.CameraClippingRange = [134.9674311526128, 331.57029329454673]\n",
      "RenderView2.Background = [1.0, 1.0, 1.0]\n",
      "RenderView2.CameraParallelScale = 57.398164620242895\n",
      "RenderView2.CenterAxesVisibility = 0\n",
      "\n",
      "a3_Displacement_PVLookupTable = GetLookupTableForArray( \"Displacement\", 3, RGBPoints=[0.0, 0.23, 0.299, 0.754, 6.571885963503576, 0.865, 0.865, 0.865, 12.804577141990409, 0.706, 0.016, 0.15], VectorMode='Magnitude', NanColor=[0.25, 0.0, 0.0], ColorSpace='Diverging', ScalarRangeInitialized=1.0 )\n",
      "\n",
      "a3_Displacement_PiecewiseFunction = CreatePiecewiseFunction( Points=[0.0, 0.0, 0.5, 0.0, 12.804577141990409, 1.0, 0.5, 0.0] )\n",
      "\n",
      "DataRepresentation2.Representation = 'Surface With Edges'\n",
      "DataRepresentation2.ScalarOpacityFunction = a3_Displacement_PiecewiseFunction\n",
      "DataRepresentation2.ColorArrayName = ('POINT_DATA', 'Displacement')\n",
      "DataRepresentation2.LookupTable = a3_Displacement_PVLookupTable\n",
      "\n",
      "WriteImage('tripod1.png')\n",
      "a3_Displacement_PVLookupTable.ScalarOpacityFunction = a3_Displacement_PiecewiseFunction\n",
      "\n",
      "\n",
      "\n",
      "RenderView2.CameraViewUp = [0.0, 0.0, 1.0]\n",
      "RenderView2.CameraPosition = [9.39224910736084, 223.26947835313635, 0.0]\n",
      "RenderView2.OrientationAxesVisibility = 0\n",
      "RenderView2.CameraClippingRange = [196.66678356960497, 253.9035205284334]\n",
      "RenderView2.CameraFocalPoint = [9.39224910736084, 1.5, 0.0]\n",
      "RenderView2.CenterAxesVisibility = 0\n",
      "\n",
      "WriteImage('tripod2.png')\n",
      "\n",
      "\n",
      "Render()\n"
     ],
     "language": "python",
     "metadata": {},
     "outputs": [
      {
       "output_type": "stream",
       "stream": "stdout",
       "text": [
        "Writing plot.py\n"
       ]
      }
     ],
     "prompt_number": 14
    },
    {
     "cell_type": "code",
     "collapsed": false,
     "input": [
      "!python plot.py"
     ],
     "language": "python",
     "metadata": {},
     "outputs": [],
     "prompt_number": 15
    },
    {
     "cell_type": "code",
     "collapsed": false,
     "input": [
      "from IPython.core.display import Image\n",
      "Image('tripod1.png')\n"
     ],
     "language": "python",
     "metadata": {},
     "outputs": [
      {
       "metadata": {},
       "output_type": "pyout",
       "png": "[encoded data removed]",
       "prompt_number": 16,
       "text": [
        "<IPython.core.display.Image at 0x7f2670063d90>"
       ]
      }
     ],
     "prompt_number": 16
    },
    {
     "cell_type": "code",
     "collapsed": false,
     "input": [
      "Image('tripod2.png')"
     ],
     "language": "python",
     "metadata": {},
     "outputs": [
      {
       "metadata": {},
       "output_type": "pyout",
       "png": "[encoded data removed]",
       "prompt_number": 17,
       "text": [
        "<IPython.core.display.Image at 0x7f2670063d50>"
       ]
      }
     ],
     "prompt_number": 17
    },
    {
     "cell_type": "code",
     "collapsed": false,
     "input": [],
     "language": "python",
     "metadata": {},
     "outputs": []
    }
   ],
   "metadata": {}
  }
 ]
}