{
 "metadata": {
  "name": "",
  "signature": "sha256:8f617f87b8863e1cefb6a11bb5dca8be70f843e2cb21261321280015f3ba0a07"
 },
 "nbformat": 3,
 "nbformat_minor": 0,
 "worksheets": [
  {
   "cells": [
    {
     "cell_type": "code",
     "collapsed": false,
     "input": [
      "import getfem as gf\n",
      "import numpy as np"
     ],
     "language": "python",
     "metadata": {},
     "outputs": [],
     "prompt_number": 1
    },
    {
     "cell_type": "markdown",
     "metadata": {},
     "source": [
      "#\u30d1\u30e9\u30e1\u30fc\u30bf\u306e\u8a2d\u5b9a\n",
      "\u307e\u305a\u306f\u30d1\u30e9\u30e1\u30fc\u30bf\u3092\u8a2d\u5b9a\u3057\u307e\u3059\u3002\u3053\u306e\u4f8b\u3067\u306f\u3001GID\u3067\u751f\u6210\u3055\u308c\u305f\u30e1\u30c3\u30b7\u30e5\u3092\u4f7f\u7528\u3057\u3066\u3044\u307e\u3059\u3002\u30e1\u30c3\u30b7\u30e5\u306f\u56db\u9762\u4f53\u8981\u7d20\u3067\u3059\u3002"
     ]
    },
    {
     "cell_type": "code",
     "collapsed": false,
     "input": [
      "file_msh = '../mesh/tripod.GiD.msh'\n",
      "E = 1e3\n",
      "Nu = 0.3\n",
      "Lambda = E*Nu/((1+Nu)*(1-2*Nu))\n",
      "Mu = E/(2*(1+Nu))"
     ],
     "language": "python",
     "metadata": {},
     "outputs": [],
     "prompt_number": 2
    },
    {
     "cell_type": "markdown",
     "metadata": {},
     "source": [
      "#\u30e1\u30c3\u30b7\u30e5\u306e\u8aad\u307f\u8fbc\u307f\n",
      "\u30e1\u30c3\u30b7\u30e5\u3092\u5916\u90e8\u30d5\u30a1\u30a4\u30eb\u304b\u3089\u8aad\u307f\u8fbc\u307f\u307e\u3059\u3002"
     ]
    },
    {
     "cell_type": "code",
     "collapsed": false,
     "input": [
      "m = gf.Mesh('import','gid',file_msh)\n",
      "m.set('optimize_structure')"
     ],
     "language": "python",
     "metadata": {},
     "outputs": [],
     "prompt_number": 3
    },
    {
     "cell_type": "markdown",
     "metadata": {},
     "source": [
      "\u30e1\u30c3\u30b7\u30e5\u3092Paraview\u306e\u30b9\u30af\u30ea\u30d7\u30c8\u3067png\u753b\u50cf\u306b\u6253\u3061\u51fa\u3057\u78ba\u8a8d\u3057\u307e\u3059\u3002"
     ]
    },
    {
     "cell_type": "code",
     "collapsed": false,
     "input": [
      "m.export_to_vtk('m.vtk')"
     ],
     "language": "python",
     "metadata": {},
     "outputs": [],
     "prompt_number": 4
    },
    {
     "cell_type": "code",
     "collapsed": false,
     "input": [
      "%%writefile plot.py\n",
      "try: paraview.simple\n",
      "except: from paraview.simple import *\n",
      "paraview.simple._DisableFirstRenderCameraReset()\n",
      "\n",
      "m_vtk = LegacyVTKReader( FileNames=['m.vtk'] )\n",
      "\n",
      "RenderView2 = CreateRenderView()\n",
      "RenderView2.CompressorConfig = 'vtkSquirtCompressor 0 3'\n",
      "RenderView2.UseLight = 1\n",
      "RenderView2.LightSwitch = 0\n",
      "RenderView2.Background = [0.31999694819562063, 0.3400015259021897, 0.4299992370489052]\n",
      "RenderView2.CenterOfRotation = [9.392949104309082, 1.5, 0.0]\n",
      "\n",
      "AnimationScene1 = GetAnimationScene()\n",
      "AnimationScene1.ViewModules = RenderView2\n",
      "\n",
      "DataRepresentation2 = Show()\n",
      "DataRepresentation2.ScaleFactor = 8.50093994140625\n",
      "DataRepresentation2.ScalarOpacityUnitDistance = 8.145737909998818\n",
      "DataRepresentation2.EdgeColor = [0.0, 0.0, 0.5000076295109483]\n",
      "\n",
      "RenderView2.CameraPosition = [9.392949104309082, 1.5, 183.2819944361333]\n",
      "RenderView2.OrientationAxesVisibility = 0\n",
      "RenderView2.CameraClippingRange = [96.86482207477977, 292.5054971187886]\n",
      "RenderView2.RemoteRenderThreshold = 3.0\n",
      "RenderView2.Background = [1.0, 1.0, 1.0]\n",
      "RenderView2.CameraFocalPoint = [9.392949104309082, 1.5, 0.0]\n",
      "RenderView2.CenterAxesVisibility = 0\n",
      "RenderView2.CameraParallelScale = 57.398613649179126\n",
      "RenderView2.OrientationAxesLabelColor = [0.0, 0.0, 0.0]\n",
      "\n",
      "DataRepresentation2.EdgeColor = [0.0, 0.0, 0.0]\n",
      "DataRepresentation2.DiffuseColor = [0.0, 0.0, 0.0]\n",
      "DataRepresentation2.ColorArrayName = ('POINT_DATA', '')\n",
      "DataRepresentation2.AmbientColor = [0.0, 0.0, 0.0]\n",
      "DataRepresentation2.SelectionColor = [0.0, 0.0, 0.0]\n",
      "DataRepresentation2.BackfaceDiffuseColor = [0.0, 0.0, 0.0]\n",
      "DataRepresentation2.CubeAxesColor = [0.0, 0.0, 0.0]\n",
      "DataRepresentation2.Representation = 'Wireframe'\n",
      "\n",
      "a1_vtkEdgeFlags_PVLookupTable = GetLookupTableForArray( \"vtkEdgeFlags\", 1, RGBPoints=[0.0, 0.23, 0.299, 0.754, 0.5, 0.865, 0.865, 0.865, 1.0, 0.706, 0.016, 0.15], VectorMode='Magnitude', NanColor=[0.25, 0.0, 0.0], ColorSpace='Diverging', ScalarRangeInitialized=1.0 )\n",
      "\n",
      "a1_vtkEdgeFlags_PiecewiseFunction = CreatePiecewiseFunction( Points=[0.0, 0.0, 0.5, 0.0, 1.0, 1.0, 0.5, 0.0] )\n",
      "\n",
      "WriteImage('m1.png')\n",
      "DataRepresentation2.ScalarOpacityFunction = a1_vtkEdgeFlags_PiecewiseFunction\n",
      "DataRepresentation2.LookupTable = a1_vtkEdgeFlags_PVLookupTable\n",
      "\n",
      "a1_vtkEdgeFlags_PVLookupTable.ScalarOpacityFunction = a1_vtkEdgeFlags_PiecewiseFunction\n",
      "\n",
      "\n",
      "\n",
      "RenderView2.CameraViewUp = [0.0, 0.0, 1.0]\n",
      "RenderView2.CameraPosition = [9.392949104309082, -220.27121326772138, 0.0]\n",
      "RenderView2.CameraFocalPoint = [9.392949104309082, 1.5, 0.0]\n",
      "RenderView2.CameraClippingRange = [196.66850113504415, 253.90528146673722]\n",
      "\n",
      "WriteImage('m2.png')\n",
      "\n",
      "\n",
      "Render()"
     ],
     "language": "python",
     "metadata": {},
     "outputs": [
      {
       "output_type": "stream",
       "stream": "stdout",
       "text": [
        "Writing plot.py\n"
       ]
      }
     ],
     "prompt_number": 5
    },
    {
     "cell_type": "code",
     "collapsed": false,
     "input": [
      "!python plot.py"
     ],
     "language": "python",
     "metadata": {},
     "outputs": [
      {
       "output_type": "stream",
       "stream": "stdout",
       "text": [
        "pci id for fd 4: 80ee:beef, driver (null)\r\n",
        "libGL error: core dri or dri2 extension not found\r\n",
        "libGL error: failed to load driver: vboxvideo\r\n"
       ]
      }
     ],
     "prompt_number": 6
    },
    {
     "cell_type": "markdown",
     "metadata": {},
     "source": [
      "\u6a2a\u3068\u4e0a\u304b\u3089\u898b\u305f\u30e1\u30c3\u30b7\u30e5\u56f3\u3067\u3059\u3002\u4e09\u811a\u306e\u30e1\u30c3\u30b7\u30e5\u30d5\u30a1\u30a4\u30eb\u3067\u3042\u308b\u3053\u3068\u304c\u308f\u304b\u308a\u307e\u3059\u3002"
     ]
    },
    {
     "cell_type": "code",
     "collapsed": false,
     "input": [
      "from IPython.core.display import Image\n",
      "Image('m1.png')\n"
     ],
     "language": "python",
     "metadata": {},
     "outputs": [
      {
       "metadata": {},
       "output_type": "pyout",
       "png": "[encoded data removed]",
       "prompt_number": 7,
       "text": [
        "<IPython.core.display.Image at 0x7efc6c038d10>"
       ]
      }
     ],
     "prompt_number": 7
    },
    {
     "cell_type": "code",
     "collapsed": false,
     "input": [
      "from IPython.core.display import Image\n",
      "Image('m2.png')\n"
     ],
     "language": "python",
     "metadata": {},
     "outputs": [
      {
       "metadata": {},
       "output_type": "pyout",
       "png": "[encoded data removed]",
       "prompt_number": 8,
       "text": [
        "<IPython.core.display.Image at 0x7efc6c04c210>"
       ]
      }
     ],
     "prompt_number": 8
    },
    {
     "cell_type": "markdown",
     "metadata": {},
     "source": [
      "# FEM\u3068\u7acb\u4f53\u6c42\u7a4d\u6cd5\u306e\u8a2d\u5b9a\n",
      "\u5909\u6570m\u306b\u30bb\u30c3\u30c8\u3055\u308c\u305f\u30e1\u30c3\u30b7\u30e5\u304b\u3089\u305d\u308c\u305e\u308c\u5909\u4f4d\u5fdc\u7b54\u683c\u7d0d\u7528\u306e\u5909\u6570\u3068\u5404\u7bc0\u70b9\u30c7\u30fc\u30bf\u64cd\u4f5c\u7528\u306e\u5909\u6570\u3092\u4f5c\u6210\u3057\u3066\u304a\u304d\u307e\u3059\u3002GetFEM++\u306e\u7279\u5fb4\u3068\u3057\u3066\u7a4d\u5206\u6cd5\u306e\u9078\u629e\u80a2\u306e\u591a\u3055\u304c\u3042\u308a\u307e\u3059\u3002"
     ]
    },
    {
     "cell_type": "code",
     "collapsed": false,
     "input": [
      "mfu = gf.MeshFem(m,3) # displacement\n",
      "mfd = gf.MeshFem(m,1) # data"
     ],
     "language": "python",
     "metadata": {},
     "outputs": [],
     "prompt_number": 9
    },
    {
     "cell_type": "markdown",
     "metadata": {},
     "source": [
      "mfu\u3068mfd\u306b\u306f\u305d\u308c\u305e\u308cLagrange\u8981\u7d20$Q_3$\u3068$Q_1$\u304c\u5165\u308a\u307e\u3059\u3002"
     ]
    },
    {
     "cell_type": "code",
     "collapsed": false,
     "input": [
      "print mfu"
     ],
     "language": "python",
     "metadata": {},
     "outputs": [
      {
       "output_type": "stream",
       "stream": "stdout",
       "text": [
        "\n",
        "BEGIN MESH_FEM\n",
        "\n",
        "QDIM 3\n",
        " BEGIN DOF_ENUMERATION \n",
        " END DOF_ENUMERATION \n",
        "END MESH_FEM\n",
        "\n"
       ]
      }
     ],
     "prompt_number": 10
    },
    {
     "cell_type": "code",
     "collapsed": false,
     "input": [
      "print mfd"
     ],
     "language": "python",
     "metadata": {},
     "outputs": [
      {
       "output_type": "stream",
       "stream": "stdout",
       "text": [
        "\n",
        "BEGIN MESH_FEM\n",
        "\n",
        "QDIM 1\n",
        " BEGIN DOF_ENUMERATION \n",
        " END DOF_ENUMERATION \n",
        "END MESH_FEM\n",
        "\n"
       ]
      }
     ],
     "prompt_number": 11
    },
    {
     "cell_type": "markdown",
     "metadata": {},
     "source": [
      "FEM\u624b\u6cd5\u3068\u3057\u3066\u53e4\u5178\u7684\u306aLagrange\u8981\u7d20$P_k$\u3092\u5272\u308a\u5f53\u3066\u307e\u3059\u3002\n",
      "\n",
      "| degree               | dimension            | d.o.f. number                        | class        | vectorial                | $\\tau$-equivalent        | Polynomial   |\n",
      "|:--------------------:|:--------------------:|:------------------------------------:|:------------:|:------------------------:|:------------------------:|:------------:|\n",
      "| $K,0\\leq K\\leq255$   | $P,1\\leq K\\leq255$   | $\\dfrac{\\left(K+P\\right)!}{K!P!}$    | $C^0$        | No$\\left(Q=1\\right)$     | Yes$\\left(M=Id\\right)$   | Yes          |\n"
     ]
    },
    {
     "cell_type": "code",
     "collapsed": false,
     "input": [
      "degree = 1\n",
      "mfu.set_fem(gf.Fem('FEM_PK(3,%d)' % (degree,)));\n",
      "mfd.set_fem(gf.Fem('FEM_PK(3,0)'))"
     ],
     "language": "python",
     "metadata": {},
     "outputs": [],
     "prompt_number": 12
    },
    {
     "cell_type": "markdown",
     "metadata": {},
     "source": [
      "\u7acb\u4f53\u6c42\u7a4d\u6cd5\u3068\u3057\u306615\u7a4d\u5206\u70b9\u30fb5\u6b21\u306etetrahedron\u3092\u4f7f\u7528\u3057\u307e\u3059\u3002\n",
      "\n",
      "<img src=\"getfemlistintmethodtetrahedron5.png\">\n"
     ]
    },
    {
     "cell_type": "code",
     "collapsed": false,
     "input": [
      "mim = gf.MeshIm(m,gf.Integ('IM_TETRAHEDRON(5)'))"
     ],
     "language": "python",
     "metadata": {},
     "outputs": [],
     "prompt_number": 13
    },
    {
     "cell_type": "markdown",
     "metadata": {},
     "source": [
      "# \u5883\u754c\u6761\u4ef6\u306e\u8a2d\u5b9a\n",
      "\u6700\u5f8c\u306b\u5883\u754c\u6761\u4ef6\u3092\u8a2d\u5b9a\u3057\u307e\u3059\u3002\u4eca\u56de\u306f\u4e09\u811a\u306e\u4e0a\u7aef\u306bNEUMANN\u6761\u4ef6\u3092\u3001\u4e0b\u7aef\u306bDIRICHLET\u6761\u4ef6\u3092\u8a2d\u5b9a\u3059\u308b\u3002"
     ]
    },
    {
     "cell_type": "code",
     "collapsed": false,
     "input": [
      "P = m.pts()\n",
      "ctop = (abs(P[1,:] - 13) < 1e-6)\n",
      "cbot = (abs(P[1,:] + 10) < 1e-6)\n",
      "pidtop = np.compress(ctop,range(0,m.nbpts()))\n",
      "pidbot = np.compress(cbot,range(0,m.nbpts()))\n",
      "ftop = m.faces_from_pid(pidtop)\n",
      "fbot = m.faces_from_pid(pidbot)"
     ],
     "language": "python",
     "metadata": {},
     "outputs": [],
     "prompt_number": 14
    },
    {
     "cell_type": "markdown",
     "metadata": {},
     "source": [
      "\u5883\u754c\u9818\u57df\u3092\u4f5c\u6210\u3057\u307e\u3059\u3002"
     ]
    },
    {
     "cell_type": "code",
     "collapsed": false,
     "input": [
      "NEUMANN_BOUNDARY = 1\n",
      "DIRICHLET_BOUNDARY = 2\n",
      "m.set_region(NEUMANN_BOUNDARY,ftop)\n",
      "m.set_region(DIRICHLET_BOUNDARY,fbot)"
     ],
     "language": "python",
     "metadata": {},
     "outputs": [],
     "prompt_number": 15
    },
    {
     "cell_type": "markdown",
     "metadata": {},
     "source": [
      "# \u5916\u529b\u30d9\u30af\u30c8\u30eb\u3068\u525b\u6027\u30de\u30c8\u30ea\u30c3\u30af\u30b9\u306e\u7d44\u307f\u7acb\u3066"
     ]
    },
    {
     "cell_type": "code",
     "collapsed": false,
     "input": [
      "nbd = mfd.nbdof()\n",
      "F = gf.asm_boundary_source(NEUMANN_BOUNDARY, mim, mfu, mfd, np.repeat([[0],[-100],[0]],nbd,1))\n",
      "K = gf.asm_linear_elasticity(mim, mfu, mfd, np.repeat([Lambda], nbd), np.repeat([Mu], nbd))"
     ],
     "language": "python",
     "metadata": {},
     "outputs": [],
     "prompt_number": 16
    },
    {
     "cell_type": "markdown",
     "metadata": {},
     "source": [
      "DIRICHLET\u6761\u4ef6(\u56fa\u5b9a\u7aef\u6761\u4ef6)\u306e\u8a2d\u5b9a\u3092\u3057\u307e\u3059\u3002"
     ]
    },
    {
     "cell_type": "code",
     "collapsed": false,
     "input": [
      "(H,R) = gf.asm_dirichlet(DIRICHLET_BOUNDARY, mim, mfu, mfd, mfd.eval('[[1,0,0],[0,1,0],[0,0,1]]'), mfd.eval('[0,0,0]'))\n",
      "(N,U0) = H.dirichlet_nullspace(R)\n",
      "\n",
      "Nt = gf.Spmat('copy',N)\n",
      "Nt.transpose()\n",
      "KK = Nt*K*N\n",
      "FF = Nt*F # FF = Nt*(F-K*U0)"
     ],
     "language": "python",
     "metadata": {},
     "outputs": [],
     "prompt_number": 17
    },
    {
     "cell_type": "code",
     "collapsed": false,
     "input": [
      "# solve ...\n",
      "P = gf.Precond('ildlt',KK)\n",
      "UU = gf.linsolve_cg(KK,FF,P)\n",
      "U = N*UU+U0\n"
     ],
     "language": "python",
     "metadata": {},
     "outputs": [],
     "prompt_number": 18
    },
    {
     "cell_type": "markdown",
     "metadata": {},
     "source": [
      "# \u30dd\u30b9\u30c8\u51e6\u7406\n",
      "\u4ee5\u4e0a\u3067\u8a08\u7b97\u3057\u305f\u5909\u4f4d\u3092\u30dd\u30b9\u30c8\u51e6\u7406\u7d50\u679c\u3068\u3057\u3066\u51fa\u529b\u3057\u307e\u3059\u3002\u4ee5\u4e0b\u306e\u30b3\u30de\u30f3\u30c9\u3067\u5909\u4f4d\u306e\u89e3\u6790\u7d50\u679c\u306eVTK\u30d5\u30a1\u30a4\u30eb\u304c\u51fa\u529b\u3055\u308c\u307e\u3059\u3002"
     ]
    },
    {
     "cell_type": "code",
     "collapsed": false,
     "input": [
      "sl = gf.Slice(('boundary',), mfu, degree)\n",
      "sl.export_to_vtk('tripod_ev.vtk', mfu, U, 'Displacement')"
     ],
     "language": "python",
     "metadata": {},
     "outputs": [],
     "prompt_number": 19
    },
    {
     "cell_type": "code",
     "collapsed": false,
     "input": [
      "%%writefile plot.py\n",
      "try: paraview.simple\n",
      "except: from paraview.simple import *\n",
      "paraview.simple._DisableFirstRenderCameraReset()\n",
      "\n",
      "tripod_ev_vtk = LegacyVTKReader( FileNames=['tripod_ev.vtk'] )\n",
      "\n",
      "RenderView2 = CreateRenderView()\n",
      "RenderView2.CompressorConfig = 'vtkSquirtCompressor 0 3'\n",
      "RenderView2.UseLight = 1\n",
      "RenderView2.LightSwitch = 0\n",
      "RenderView2.RemoteRenderThreshold = 3.0\n",
      "RenderView2.CenterOfRotation = [9.39224910736084, 1.5, 0.0]\n",
      "\n",
      "AnimationScene1 = GetAnimationScene()\n",
      "AnimationScene1.ViewModules = RenderView2\n",
      "\n",
      "DataRepresentation2 = Show()\n",
      "DataRepresentation2.ScaleFactor = 8.50093994140625\n",
      "DataRepresentation2.ScalarOpacityUnitDistance = 9.599809856069918\n",
      "DataRepresentation2.SelectionPointFieldDataArrayName = 'Displacement'\n",
      "DataRepresentation2.EdgeColor = [0.0, 0.0, 0.0]\n",
      "\n",
      "RenderView2.CameraPosition = [9.39224910736084, 1.5, 221.76947835313635]\n",
      "RenderView2.OrientationAxesVisibility = 0\n",
      "RenderView2.CameraFocalPoint = [9.39224910736084, 1.5, 0.0]\n",
      "RenderView2.CameraClippingRange = [134.9674311526128, 331.57029329454673]\n",
      "RenderView2.Background = [1.0, 1.0, 1.0]\n",
      "RenderView2.CameraParallelScale = 57.398164620242895\n",
      "RenderView2.CenterAxesVisibility = 0\n",
      "\n",
      "a3_Displacement_PVLookupTable = GetLookupTableForArray( \"Displacement\", 3, RGBPoints=[0.0, 0.23, 0.299, 0.754, 6.571885963503576, 0.865, 0.865, 0.865, 12.804577141990409, 0.706, 0.016, 0.15], VectorMode='Magnitude', NanColor=[0.25, 0.0, 0.0], ColorSpace='Diverging', ScalarRangeInitialized=1.0 )\n",
      "\n",
      "a3_Displacement_PiecewiseFunction = CreatePiecewiseFunction( Points=[0.0, 0.0, 0.5, 0.0, 12.804577141990409, 1.0, 0.5, 0.0] )\n",
      "\n",
      "DataRepresentation2.Representation = 'Surface With Edges'\n",
      "DataRepresentation2.ScalarOpacityFunction = a3_Displacement_PiecewiseFunction\n",
      "DataRepresentation2.ColorArrayName = ('POINT_DATA', 'Displacement')\n",
      "DataRepresentation2.LookupTable = a3_Displacement_PVLookupTable\n",
      "\n",
      "WriteImage('tripod1.png')\n",
      "a3_Displacement_PVLookupTable.ScalarOpacityFunction = a3_Displacement_PiecewiseFunction\n",
      "\n",
      "\n",
      "\n",
      "RenderView2.CameraViewUp = [0.0, 0.0, 1.0]\n",
      "RenderView2.CameraPosition = [9.39224910736084, 223.26947835313635, 0.0]\n",
      "RenderView2.OrientationAxesVisibility = 0\n",
      "RenderView2.CameraClippingRange = [196.66678356960497, 253.9035205284334]\n",
      "RenderView2.CameraFocalPoint = [9.39224910736084, 1.5, 0.0]\n",
      "RenderView2.CenterAxesVisibility = 0\n",
      "\n",
      "WriteImage('tripod2.png')\n",
      "\n",
      "\n",
      "Render()\n"
     ],
     "language": "python",
     "metadata": {},
     "outputs": [
      {
       "output_type": "stream",
       "stream": "stdout",
       "text": [
        "Overwriting plot.py\n"
       ]
      }
     ],
     "prompt_number": 20
    },
    {
     "cell_type": "code",
     "collapsed": false,
     "input": [
      "!python plot.py"
     ],
     "language": "python",
     "metadata": {},
     "outputs": [
      {
       "output_type": "stream",
       "stream": "stdout",
       "text": [
        "pci id for fd 4: 80ee:beef, driver (null)\r\n"
       ]
      },
      {
       "output_type": "stream",
       "stream": "stdout",
       "text": [
        "libGL error: core dri or dri2 extension not found\r\n",
        "libGL error: failed to load driver: vboxvideo\r\n"
       ]
      }
     ],
     "prompt_number": 21
    },
    {
     "cell_type": "code",
     "collapsed": false,
     "input": [
      "from IPython.core.display import Image\n",
      "Image('tripod1.png')\n"
     ],
     "language": "python",
     "metadata": {},
     "outputs": [
      {
       "metadata": {},
       "output_type": "pyout",
       "png": "[encoded data removed]",
       "prompt_number": 22,
       "text": [
        "<IPython.core.display.Image at 0x7efc6c04c1d0>"
       ]
      }
     ],
     "prompt_number": 22
    },
    {
     "cell_type": "code",
     "collapsed": false,
     "input": [
      "from IPython.core.display import Image\n",
      "Image('tripod2.png')\n"
     ],
     "language": "python",
     "metadata": {},
     "outputs": [
      {
       "metadata": {},
       "output_type": "pyout",
       "png": "[encoded data removed]",
       "prompt_number": 23,
       "text": [
        "<IPython.core.display.Image at 0x7efc6c04c3d0>"
       ]
      }
     ],
     "prompt_number": 23
    },
    {
     "cell_type": "code",
     "collapsed": false,
     "input": [],
     "language": "python",
     "metadata": {},
     "outputs": [],
     "prompt_number": 23
    }
   ],
   "metadata": {}
  }
 ]
}