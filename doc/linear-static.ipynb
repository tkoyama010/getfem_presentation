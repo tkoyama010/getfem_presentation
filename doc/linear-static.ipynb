{
 "cells": [
  {
   "cell_type": "markdown",
   "metadata": {},
   "source": [
    "勉強会と同じ計算をGetfem++で計算することでベンチマークを取りました。"
   ]
  },
  {
   "cell_type": "code",
   "execution_count": 1,
   "metadata": {
    "collapsed": true
   },
   "outputs": [],
   "source": [
    "import getfem as gf\n",
    "import numpy as np"
   ]
  },
  {
   "cell_type": "markdown",
   "metadata": {},
   "source": [
    "単位は$N$と$m$で計算します。"
   ]
  },
  {
   "cell_type": "code",
   "execution_count": 2,
   "metadata": {
    "collapsed": false
   },
   "outputs": [
    {
     "name": "stdout",
     "output_type": "stream",
     "text": [
      "x =  [ 0.     0.001  0.002  0.003  0.004  0.005] y =  [ 0.     0.001] z =  [ 0.     0.001]\n"
     ]
    }
   ],
   "source": [
    "E = 210000*10**6 #ヤング率\n",
    "Nu = 0.3         #ポアソン比\n",
    "\n",
    "Lambda = E*Nu/((1+Nu)*(1-2*Nu))\n",
    "Mu = E/(2*(1+Nu))\n",
    "\n",
    "x = np.linspace(0, 5.0E-03, 6)\n",
    "y = np.linspace(0, 1.0E-03, 2)\n",
    "z = np.linspace(0, 1.0E-03, 2)\n",
    "\n",
    "print 'x = ', x, 'y = ', y, 'z = ', z"
   ]
  },
  {
   "cell_type": "code",
   "execution_count": 3,
   "metadata": {
    "collapsed": false
   },
   "outputs": [],
   "source": [
    "m = gf.Mesh('cartesian', x, y, z)"
   ]
  },
  {
   "cell_type": "code",
   "execution_count": 4,
   "metadata": {
    "collapsed": false
   },
   "outputs": [],
   "source": [
    "mfu = gf.MeshFem(m,3)\n",
    "mfd = gf.MeshFem(m,1)\n",
    "mfu.set_fem(gf.Fem('FEM_QK(3,1)'))\n",
    "mfd.set_fem(gf.Fem('FEM_QK(3,1)'))\n",
    "mim = gf.MeshIm(m,gf.Integ('IM_HEXAHEDRON(5)'))"
   ]
  },
  {
   "cell_type": "code",
   "execution_count": 5,
   "metadata": {
    "collapsed": false
   },
   "outputs": [],
   "source": [
    "P = m.pts()\n",
    "cfix = (abs(P[0,:]-0.0) < 1.000E-6)\n",
    "cload = (abs(P[0,:]-max(x)) < 1.000E-6)\n",
    "pfix = np.compress(cfix,range(0,m.nbpts()))\n",
    "pload = np.compress(cload,range(0,m.nbpts()))\n",
    "ffix = m.faces_from_pid(pfix)\n",
    "fload = m.faces_from_pid(pload)\n",
    "FIX  = 1\n",
    "LOAD = 2\n",
    "m.set_region(FIX,ffix)\n",
    "m.set_region(LOAD,fload)\n"
   ]
  },
  {
   "cell_type": "code",
   "execution_count": 6,
   "metadata": {
    "collapsed": false
   },
   "outputs": [
    {
     "name": "stdout",
     "output_type": "stream",
     "text": [
      "-4.0\n"
     ]
    }
   ],
   "source": [
    "nbd = mfd.nbdof()\n",
    "\n",
    "A = 1.0E-06\n",
    "F = gf.asm_boundary_source(LOAD, mim, mfu, mfd, np.repeat([[0.0], [0.0], [-4.0/A]], nbd, 1))\n",
    "K = gf.asm_linear_elasticity(mim, mfu, mfd, np.repeat([Lambda], nbd), np.repeat([Mu], nbd))\n",
    "\n",
    "(H,R) = gf.asm_dirichlet(FIX, mim, mfu, mfd, mfd.eval('[[1,0,0],[0,1,0],[0,0,1]]'), mfd.eval('[0,0,0]'))\n",
    "(N,U0) = H.dirichlet_nullspace(R)\n",
    "\n",
    "Nt = gf.Spmat('copy',N)\n",
    "Nt.transpose()\n",
    "KK = Nt*K*N\n",
    "FF = Nt*(F-K*U0)\n",
    "print np.sum(FF)"
   ]
  },
  {
   "cell_type": "code",
   "execution_count": 7,
   "metadata": {
    "collapsed": false
   },
   "outputs": [
    {
     "name": "stdout",
     "output_type": "stream",
     "text": [
      "2.38919994899e-13\n",
      "-6.24659940889e-06\n"
     ]
    }
   ],
   "source": [
    "P = gf.Precond('ildlt',KK)\n",
    "UU = gf.linsolve_cg(KK,FF,P)\n",
    "U = N*UU+U0\n",
    "print np.sum(FF-KK*UU)\n",
    "print np.min(U)"
   ]
  },
  {
   "cell_type": "markdown",
   "metadata": {},
   "source": [
    "sfepyと同様に、最大変位は0.00625mmとなっています。"
   ]
  },
  {
   "cell_type": "code",
   "execution_count": null,
   "metadata": {
    "collapsed": true
   },
   "outputs": [],
   "source": []
  }
 ],
 "metadata": {
  "kernelspec": {
   "display_name": "Python 2",
   "language": "python",
   "name": "python2"
  },
  "language_info": {
   "codemirror_mode": {
    "name": "ipython",
    "version": 2
   },
   "file_extension": ".py",
   "mimetype": "text/x-python",
   "name": "python",
   "nbconvert_exporter": "python",
   "pygments_lexer": "ipython2",
   "version": "2.7.9"
  }
 },
 "nbformat": 4,
 "nbformat_minor": 0
}
