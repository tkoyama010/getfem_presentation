{
 "cells": [
  {
   "cell_type": "markdown",
   "metadata": {},
   "source": [
    "Getfemで領域ごとに質量行列を設定できたため、方法を共有する。"
   ]
  },
  {
   "cell_type": "code",
   "execution_count": 1,
   "metadata": {
    "collapsed": true
   },
   "outputs": [],
   "source": [
    "import getfem as gf\n",
    "import numpy as np"
   ]
  },
  {
   "cell_type": "markdown",
   "metadata": {},
   "source": [
    "今回は簡単のため、１次元２要素のモデルで作成を行う。"
   ]
  },
  {
   "cell_type": "code",
   "execution_count": 2,
   "metadata": {
    "collapsed": false
   },
   "outputs": [
    {
     "name": "stdout",
     "output_type": "stream",
     "text": [
      "\n",
      "BEGIN POINTS LIST\n",
      "\n",
      "  POINT  0  0\n",
      "  POINT  1  1\n",
      "  POINT  2  2\n",
      "\n",
      "END POINTS LIST\n",
      "\n",
      "\n",
      "\n",
      "BEGIN MESH STRUCTURE DESCRIPTION\n",
      "\n",
      "CONVEX 0    'GT_PK(1,1)'      0  1\n",
      "CONVEX 1    'GT_PK(1,1)'      1  2\n",
      "\n",
      "END MESH STRUCTURE DESCRIPTION\n",
      "\n"
     ]
    }
   ],
   "source": [
    "m = gf.Mesh('cartesian', np.arange(3))\n",
    "print m"
   ]
  },
  {
   "cell_type": "code",
   "execution_count": 3,
   "metadata": {
    "collapsed": false
   },
   "outputs": [
    {
     "name": "stdout",
     "output_type": "stream",
     "text": [
      "\n",
      "BEGIN MESH_FEM\n",
      "\n",
      "QDIM 1\n",
      " CONVEX 0 'FEM_PK(1,1)'\n",
      " CONVEX 1 'FEM_PK(1,1)'\n",
      " BEGIN DOF_ENUMERATION \n",
      "  0:  0 1\n",
      "  1:  1 2\n",
      " END DOF_ENUMERATION \n",
      "END MESH_FEM\n",
      "\n",
      "\n",
      "BEGIN MESH_FEM\n",
      "\n",
      "QDIM 1\n",
      " CONVEX 0 'FEM_PK(1,1)'\n",
      " CONVEX 1 'FEM_PK(1,1)'\n",
      " BEGIN DOF_ENUMERATION \n",
      "  0:  0 1\n",
      "  1:  1 2\n",
      " END DOF_ENUMERATION \n",
      "END MESH_FEM\n",
      "\n"
     ]
    }
   ],
   "source": [
    "mfu = gf.MeshFem(m, 1)\n",
    "mfu.set_fem(gf.Fem('FEM_PK(1,1)'))\n",
    "mfd = gf.MeshFem(m, 1)\n",
    "mfd.set_fem(gf.Fem('FEM_PK(1,1)'))\n",
    "print mfu\n",
    "print mfd"
   ]
  },
  {
   "cell_type": "code",
   "execution_count": 4,
   "metadata": {
    "collapsed": false
   },
   "outputs": [
    {
     "name": "stdout",
     "output_type": "stream",
     "text": [
      "\n",
      "BEGIN MESH_IM\n",
      "\n",
      " CONVEX 0 'IM_GAUSS1D(1)'\n",
      " CONVEX 1 'IM_GAUSS1D(1)'\n",
      "END MESH_IM\n",
      "\n"
     ]
    }
   ],
   "source": [
    "mim = gf.MeshIm(m, gf.Integ('IM_GAUSS1D(1)'))\n",
    "print mim"
   ]
  },
  {
   "cell_type": "markdown",
   "metadata": {},
   "source": [
    "ここからが、本題。メッシュに領域を設定する。今回CONVEXは２個なので、２個定義する。"
   ]
  },
  {
   "cell_type": "code",
   "execution_count": 5,
   "metadata": {
    "collapsed": false
   },
   "outputs": [
    {
     "name": "stdout",
     "output_type": "stream",
     "text": [
      "\n",
      "BEGIN POINTS LIST\n",
      "\n",
      "  POINT  0  0\n",
      "  POINT  1  1\n",
      "  POINT  2  2\n",
      "\n",
      "END POINTS LIST\n",
      "\n",
      "\n",
      "\n",
      "BEGIN MESH STRUCTURE DESCRIPTION\n",
      "\n",
      "CONVEX 0    'GT_PK(1,1)'      0  1\n",
      "CONVEX 1    'GT_PK(1,1)'      1  2\n",
      "\n",
      "END MESH STRUCTURE DESCRIPTION\n",
      "BEGIN REGION 1\n",
      "0 \n",
      "END REGION 1\n",
      "BEGIN REGION 2\n",
      "1 \n",
      "END REGION 2\n",
      "\n"
     ]
    }
   ],
   "source": [
    "m.set_region(1, 0)\n",
    "m.set_region(2, 1)\n",
    "print m"
   ]
  },
  {
   "cell_type": "markdown",
   "metadata": {},
   "source": [
    "\"CONVESX 0\"と\"CONVEX 1\"に対してそれぞれの要素行列のみ作成できれば、異なる物性値を定義してそれを後から重ね合わせられる。まずは全領域(-1)で作成してみる。"
   ]
  },
  {
   "cell_type": "code",
   "execution_count": 6,
   "metadata": {
    "collapsed": false
   },
   "outputs": [
    {
     "data": {
      "text/plain": [
       "array([[ 0.25,  0.25,  0.  ],\n",
       "       [ 0.25,  0.5 ,  0.25],\n",
       "       [ 0.  ,  0.25,  0.25]])"
      ]
     },
     "execution_count": 6,
     "metadata": {},
     "output_type": "execute_result"
    }
   ],
   "source": [
    "gf.asm_mass_matrix(mim, mfu, mfu, -1).full()"
   ]
  },
  {
   "cell_type": "markdown",
   "metadata": {},
   "source": [
    "次に、領域1に対して作成する。"
   ]
  },
  {
   "cell_type": "code",
   "execution_count": 7,
   "metadata": {
    "collapsed": false
   },
   "outputs": [
    {
     "data": {
      "text/plain": [
       "array([[ 0.25,  0.25,  0.  ],\n",
       "       [ 0.25,  0.25,  0.  ],\n",
       "       [ 0.  ,  0.  ,  0.  ]])"
      ]
     },
     "execution_count": 7,
     "metadata": {},
     "output_type": "execute_result"
    }
   ],
   "source": [
    "gf.asm_mass_matrix(mim, mfu, mfu, 1).full()"
   ]
  },
  {
   "cell_type": "markdown",
   "metadata": {},
   "source": [
    "領域2も同様に作成できる。"
   ]
  },
  {
   "cell_type": "code",
   "execution_count": 8,
   "metadata": {
    "collapsed": false
   },
   "outputs": [
    {
     "data": {
      "text/plain": [
       "array([[ 0.  ,  0.  ,  0.  ],\n",
       "       [ 0.  ,  0.25,  0.25],\n",
       "       [ 0.  ,  0.25,  0.25]])"
      ]
     },
     "execution_count": 8,
     "metadata": {},
     "output_type": "execute_result"
    }
   ],
   "source": [
    "gf.asm_mass_matrix(mim, mfu, mfu, 2).full()"
   ]
  },
  {
   "cell_type": "markdown",
   "metadata": {},
   "source": [
    "以上のように各領域に対して行列を作成できた。後は異なる質量密度を掛け重ね合わせれば良い。"
   ]
  },
  {
   "cell_type": "markdown",
   "metadata": {
    "collapsed": true
   },
   "source": [
    "ついでなので、剛性行列もやってみる。"
   ]
  },
  {
   "cell_type": "code",
   "execution_count": 9,
   "metadata": {
    "collapsed": false
   },
   "outputs": [
    {
     "data": {
      "text/plain": [
       "array([[ 3., -3.,  0.],\n",
       "       [-3.,  6., -3.],\n",
       "       [ 0., -3.,  3.]])"
      ]
     },
     "execution_count": 9,
     "metadata": {},
     "output_type": "execute_result"
    }
   ],
   "source": [
    "clambda = np.repeat(1.0, m.nbpts())\n",
    "mu = np.repeat(1.0, m.nbpts())\n",
    "gf.asm_linear_elasticity(mim, mfu, mfu, clambda, mu, -1).full()"
   ]
  },
  {
   "cell_type": "code",
   "execution_count": 10,
   "metadata": {
    "collapsed": false
   },
   "outputs": [
    {
     "data": {
      "text/plain": [
       "array([[ 3., -3.,  0.],\n",
       "       [-3.,  3.,  0.],\n",
       "       [ 0.,  0.,  0.]])"
      ]
     },
     "execution_count": 10,
     "metadata": {},
     "output_type": "execute_result"
    }
   ],
   "source": [
    "gf.asm_linear_elasticity(mim, mfu, mfd, clambda, mu, 1).full()"
   ]
  },
  {
   "cell_type": "code",
   "execution_count": 11,
   "metadata": {
    "collapsed": false
   },
   "outputs": [
    {
     "data": {
      "text/plain": [
       "array([[ 0.,  0.,  0.],\n",
       "       [ 0.,  3., -3.],\n",
       "       [ 0., -3.,  3.]])"
      ]
     },
     "execution_count": 11,
     "metadata": {},
     "output_type": "execute_result"
    }
   ],
   "source": [
    "gf.asm_linear_elasticity(mim, mfu, mfd, clambda, mu, 2).full()"
   ]
  },
  {
   "cell_type": "code",
   "execution_count": null,
   "metadata": {
    "collapsed": true
   },
   "outputs": [],
   "source": []
  }
 ],
 "metadata": {
  "kernelspec": {
   "display_name": "Python 2",
   "language": "python",
   "name": "python2"
  },
  "language_info": {
   "codemirror_mode": {
    "name": "ipython",
    "version": 2
   },
   "file_extension": ".py",
   "mimetype": "text/x-python",
   "name": "python",
   "nbconvert_exporter": "python",
   "pygments_lexer": "ipython2",
   "version": "2.7.13"
  }
 },
 "nbformat": 4,
 "nbformat_minor": 2
}
