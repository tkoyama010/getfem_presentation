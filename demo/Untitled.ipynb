{
 "cells": [
  {
   "cell_type": "code",
   "execution_count": 1,
   "metadata": {
    "collapsed": true
   },
   "outputs": [],
   "source": [
    "import getfem as gf\n",
    "import numpy as np"
   ]
  },
  {
   "cell_type": "code",
   "execution_count": 4,
   "metadata": {
    "collapsed": false
   },
   "outputs": [
    {
     "name": "stdout",
     "output_type": "stream",
     "text": [
      "\n",
      "BEGIN POINTS LIST\n",
      "\n",
      "  POINT  0  0  0\n",
      "  POINT  1  1  0\n",
      "  POINT  2  0  1\n",
      "  POINT  3  1  1\n",
      "\n",
      "END POINTS LIST\n",
      "\n",
      "\n",
      "\n",
      "BEGIN MESH STRUCTURE DESCRIPTION\n",
      "\n",
      "CONVEX 0    'GT_LINEAR_PRODUCT(GT_PK(1,1),GT_PK(1,1))'      0  1  2  3\n",
      "\n",
      "END MESH STRUCTURE DESCRIPTION\n",
      "\n"
     ]
    }
   ],
   "source": [
    "m = gf.Mesh('cartesian', np.arange(0, 2, 1), np.arange(0, 2, 1))\n",
    "print m"
   ]
  },
  {
   "cell_type": "code",
   "execution_count": 6,
   "metadata": {
    "collapsed": false
   },
   "outputs": [
    {
     "name": "stdout",
     "output_type": "stream",
     "text": [
      "\n",
      "BEGIN MESH_FEM\n",
      "\n",
      "QDIM 2\n",
      " BEGIN DOF_ENUMERATION \n",
      " END DOF_ENUMERATION \n",
      "END MESH_FEM\n",
      "\n",
      "\n",
      "BEGIN MESH_FEM\n",
      "\n",
      "QDIM 1\n",
      " BEGIN DOF_ENUMERATION \n",
      " END DOF_ENUMERATION \n",
      "END MESH_FEM\n",
      "\n"
     ]
    }
   ],
   "source": [
    "mfu = gf.MeshFem(m, 2)\n",
    "mfd = gf.MeshFem(m, 1)\n",
    "print mfu\n",
    "print mfd"
   ]
  },
  {
   "cell_type": "code",
   "execution_count": 7,
   "metadata": {
    "collapsed": true
   },
   "outputs": [],
   "source": [
    "mfu.set_fem?"
   ]
  },
  {
   "cell_type": "code",
   "execution_count": 27,
   "metadata": {
    "collapsed": false
   },
   "outputs": [],
   "source": [
    "mfu.set_fem(gf.Fem?"
   ]
  },
  {
   "cell_type": "code",
   "execution_count": null,
   "metadata": {
    "collapsed": true
   },
   "outputs": [],
   "source": [
    "mfu.set_fem(gf.Fem"
   ]
  },
  {
   "cell_type": "code",
   "execution_count": 31,
   "metadata": {
    "collapsed": false
   },
   "outputs": [],
   "source": [
    "mfu.set_fem(gf.Fem('FEM_QK_DISCONTINUOUS(2,1)'))"
   ]
  },
  {
   "cell_type": "code",
   "execution_count": 32,
   "metadata": {
    "collapsed": false
   },
   "outputs": [],
   "source": [
    "mfd.set_fem(gf.Fem('FEM_QK_DISCONTINUOUS(2,1)'))"
   ]
  },
  {
   "cell_type": "code",
   "execution_count": 33,
   "metadata": {
    "collapsed": false
   },
   "outputs": [
    {
     "name": "stdout",
     "output_type": "stream",
     "text": [
      "\n",
      "BEGIN MESH_FEM\n",
      "\n",
      "QDIM 2\n",
      " CONVEX 0 'FEM_QK_DISCONTINUOUS(2,1)'\n",
      " BEGIN DOF_ENUMERATION \n",
      "  0:  0 2 4 6\n",
      " END DOF_ENUMERATION \n",
      "END MESH_FEM\n",
      "\n",
      "\n",
      "BEGIN MESH_FEM\n",
      "\n",
      "QDIM 1\n",
      " CONVEX 0 'FEM_QK_DISCONTINUOUS(2,1)'\n",
      " BEGIN DOF_ENUMERATION \n",
      "  0:  0 1 2 3\n",
      " END DOF_ENUMERATION \n",
      "END MESH_FEM\n",
      "\n"
     ]
    }
   ],
   "source": [
    "print mfu\n",
    "print mfd"
   ]
  },
  {
   "cell_type": "code",
   "execution_count": 34,
   "metadata": {
    "collapsed": false
   },
   "outputs": [
    {
     "name": "stdout",
     "output_type": "stream",
     "text": [
      "[[ 0.  0.  1.  1.  0.  0.  1.  1.]\n",
      " [ 0.  0.  0.  0.  1.  1.  1.  1.]]\n"
     ]
    }
   ],
   "source": [
    "print mfu.dof_nodes()"
   ]
  },
  {
   "cell_type": "code",
   "execution_count": 35,
   "metadata": {
    "collapsed": false
   },
   "outputs": [
    {
     "name": "stdout",
     "output_type": "stream",
     "text": [
      "[[ 0.  1.  0.  1.]\n",
      " [ 0.  0.  1.  1.]]\n"
     ]
    }
   ],
   "source": [
    "print mfd.dof_nodes()"
   ]
  },
  {
   "cell_type": "code",
   "execution_count": 36,
   "metadata": {
    "collapsed": true
   },
   "outputs": [],
   "source": [
    "mim = gf.Integ?"
   ]
  },
  {
   "cell_type": "code",
   "execution_count": 45,
   "metadata": {
    "collapsed": false
   },
   "outputs": [],
   "source": [
    "mim = gf.MeshIm(m, gf.Integ('IM_QUAD(2)'))"
   ]
  },
  {
   "cell_type": "code",
   "execution_count": 46,
   "metadata": {
    "collapsed": false
   },
   "outputs": [
    {
     "name": "stdout",
     "output_type": "stream",
     "text": [
      "\n",
      "BEGIN MESH_IM\n",
      "\n",
      " CONVEX 0 'IM_QUAD(2)'\n",
      "END MESH_IM\n",
      "\n"
     ]
    }
   ],
   "source": [
    "print mim"
   ]
  },
  {
   "cell_type": "code",
   "execution_count": 47,
   "metadata": {
    "collapsed": true
   },
   "outputs": [],
   "source": [
    "K = gf.asm_linear_elasticity?"
   ]
  },
  {
   "cell_type": "code",
   "execution_count": null,
   "metadata": {
    "collapsed": true
   },
   "outputs": [],
   "source": [
    "K = gf.asm_linear_elasticity"
   ]
  },
  {
   "cell_type": "code",
   "execution_count": 49,
   "metadata": {
    "collapsed": false
   },
   "outputs": [],
   "source": [
    "Lambda = np.repeat(1.0, mfd.nbdof())\n",
    "Mu = np.repeat(1.0, mfd.nbdof())\n",
    "K = gf.asm_linear_elasticity(mim, mfu, mfd, Lambda, Mu)"
   ]
  },
  {
   "cell_type": "code",
   "execution_count": 53,
   "metadata": {
    "collapsed": false
   },
   "outputs": [
    {
     "name": "stdout",
     "output_type": "stream",
     "text": [
      "(8, 8)\n",
      "[[  1.33333333e+00   5.00000000e-01  -8.33333333e-01  -8.32667268e-17\n",
      "    1.66666667e-01  -8.32667268e-17  -6.66666667e-01  -5.00000000e-01]\n",
      " [  5.00000000e-01   1.33333333e+00  -8.32667268e-17   1.66666667e-01\n",
      "   -8.32667268e-17  -8.33333333e-01  -5.00000000e-01  -6.66666667e-01]\n",
      " [ -8.33333333e-01  -8.32667268e-17   1.33333333e+00  -5.00000000e-01\n",
      "   -6.66666667e-01   5.00000000e-01   1.66666667e-01   0.00000000e+00]\n",
      " [ -8.32667268e-17   1.66666667e-01  -5.00000000e-01   1.33333333e+00\n",
      "    5.00000000e-01  -6.66666667e-01   0.00000000e+00  -8.33333333e-01]\n",
      " [  1.66666667e-01  -8.32667268e-17  -6.66666667e-01   5.00000000e-01\n",
      "    1.33333333e+00  -5.00000000e-01  -8.33333333e-01   0.00000000e+00]\n",
      " [ -8.32667268e-17  -8.33333333e-01   5.00000000e-01  -6.66666667e-01\n",
      "   -5.00000000e-01   1.33333333e+00   0.00000000e+00   1.66666667e-01]\n",
      " [ -6.66666667e-01  -5.00000000e-01   1.66666667e-01   0.00000000e+00\n",
      "   -8.33333333e-01   0.00000000e+00   1.33333333e+00   5.00000000e-01]\n",
      " [ -5.00000000e-01  -6.66666667e-01   0.00000000e+00  -8.33333333e-01\n",
      "    0.00000000e+00   1.66666667e-01   5.00000000e-01   1.33333333e+00]]\n"
     ]
    }
   ],
   "source": [
    "print np.shape(K.full())\n",
    "print K.full()"
   ]
  },
  {
   "cell_type": "code",
   "execution_count": null,
   "metadata": {
    "collapsed": true
   },
   "outputs": [],
   "source": []
  }
 ],
 "metadata": {
  "kernelspec": {
   "display_name": "Python 2",
   "language": "python",
   "name": "python2"
  },
  "language_info": {
   "codemirror_mode": {
    "name": "ipython",
    "version": 2
   },
   "file_extension": ".py",
   "mimetype": "text/x-python",
   "name": "python",
   "nbconvert_exporter": "python",
   "pygments_lexer": "ipython2",
   "version": "2.7.10"
  }
 },
 "nbformat": 4,
 "nbformat_minor": 0
}
