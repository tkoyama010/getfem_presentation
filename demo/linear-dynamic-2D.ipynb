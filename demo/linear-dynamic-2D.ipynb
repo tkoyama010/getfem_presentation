{
 "cells": [
  {
   "cell_type": "markdown",
   "metadata": {},
   "source": [
    "# Getfem++を使用した地盤の線形時刻歴応答解析"
   ]
  },
  {
   "cell_type": "markdown",
   "metadata": {},
   "source": [
    "Getfem++を使用して地盤の２次元線形時刻歴応答解析を行いました。"
   ]
  },
  {
   "cell_type": "code",
   "execution_count": 1,
   "metadata": {
    "collapsed": true
   },
   "outputs": [],
   "source": [
    "import numpy as np\n",
    "import getfem as gf\n",
    "import pylab as plt"
   ]
  },
  {
   "cell_type": "markdown",
   "metadata": {},
   "source": [
    "## 支配方程式\n",
    "まずは支配方程式であるNavierの式をおさらいします。\n",
    "\n",
    "$\\left(\\lambda+\\mu\\right)\\dfrac{\\partial}{\\partial x}\\left(\\dfrac{\\partial u_{x}}{\\partial x}+\\dfrac{\\partial u_{y}}{\\partial y}+\\dfrac{\\partial u_{z}}{\\partial z}\\right)+\\mu\\left(\\dfrac{\\partial^{2}}{\\partial x^{2}}+\\dfrac{\\partial^{2}}{\\partial y^{2}}+\\dfrac{\\partial^{2}}{\\partial z^{2}}\\right)u_{x}+f_{x}=\\rho\\dfrac{\\partial^{2}u_{x}}{\\partial t^{2}}$\n",
    "$\\left(\\lambda+\\mu\\right)\\dfrac{\\partial}{\\partial y}\\left(\\dfrac{\\partial u_{x}}{\\partial x}+\\dfrac{\\partial u_{y}}{\\partial y}+\\dfrac{\\partial u_{z}}{\\partial z}\\right)+\\mu\\left(\\dfrac{\\partial^{2}}{\\partial x^{2}}+\\dfrac{\\partial^{2}}{\\partial y^{2}}+\\dfrac{\\partial^{2}}{\\partial z^{2}}\\right)u_{y}+f_{y}  =  \\rho\\dfrac{\\partial^{2}u_{y}}{\\partial t^{2}}$\n",
    "$\\left(\\lambda+\\mu\\right)\\dfrac{\\partial}{\\partial z}\\left(\\dfrac{\\partial u_{x}}{\\partial x}+\\dfrac{\\partial u_{y}}{\\partial y}+\\dfrac{\\partial u_{z}}{\\partial z}\\right)+\\mu\\left(\\dfrac{\\partial^{2}}{\\partial x^{2}}+\\dfrac{\\partial^{2}}{\\partial y^{2}}+\\dfrac{\\partial^{2}}{\\partial z^{2}}\\right)u_{z}+f_{z}  =  \\rho\\dfrac{\\partial^{2}u_{z}}{\\partial t^{2}}$\n",
    "\n",
    "今回は２次元の解析ですので、Y方向の状態量は一定とします。($\\dfrac{\\partial}{\\partial y}=0$)\n",
    "\n",
    "$\\left(\\lambda+\\mu\\right)\\dfrac{\\partial}{\\partial x}\\left(\\dfrac{\\partial u_{x}}{\\partial x}+\\dfrac{\\partial u_{z}}{\\partial z}\\right)+\\mu\\left(\\dfrac{\\partial^{2}}{\\partial x^{2}}+\\dfrac{\\partial^{2}}{\\partial z^{2}}\\right)u_{x}+f_{x}=\\rho\\dfrac{\\partial^{2}u_{x}}{\\partial t^{2}}$\n",
    "$\\left(\\lambda+\\mu\\right)\\dfrac{\\partial}{\\partial z}\\left(\\dfrac{\\partial u_{x}}{\\partial x}+\\dfrac{\\partial u_{z}}{\\partial z}\\right)+\\mu\\left(\\dfrac{\\partial^{2}}{\\partial x^{2}}+\\dfrac{\\partial^{2}}{\\partial z^{2}}\\right)u_{z}+f_{z}=\\rho\\dfrac{\\partial^{2}u_{z}}{\\partial t^{2}}$\n",
    "$\\mu\\left(\\dfrac{\\partial^{2}}{\\partial x^{2}}+\\dfrac{\\partial^{2}}{\\partial z^{2}}\\right)u_{y}+f_{y}=\\rho\\dfrac{\\partial^{2}u_{y}}{\\partial t^{2}}$\n",
    "\n",
    "上式の上２式は面内波の式、下の１式は面外波の式になります。今回はこの面外波の時刻歴応答解析を行います。"
   ]
  },
  {
   "cell_type": "markdown",
   "metadata": {},
   "source": [
    "## 解析条件\n",
    "\n",
    "解析対象として、地震波S波速度2000m/secの地盤を考えます。"
   ]
  },
  {
   "cell_type": "code",
   "execution_count": 2,
   "metadata": {
    "collapsed": true
   },
   "outputs": [],
   "source": [
    "# S波速度(m/sec2)\n",
    "Vs = 2.000e+03\n",
    "# ポアソン比(-)\n",
    "Nu =  4.800e-01\n",
    "# 質量密度(kg/m3)\n",
    "rho =  1.800e+01\n",
    "\n",
    "# ラメの弾性定数\n",
    "Mu =  rho*Vs**2\n",
    "# ヤング率\n",
    "E = Mu*(2*(1+Nu))\n",
    "# ラメの弾性定数\n",
    "Lambda = E*Nu/((1+Nu)*(1-2*Nu))\n",
    "# P波速度(m/sec2)\n",
    "Vp = np.sqrt((Lambda+2.000e+00*Mu)/rho)\n"
   ]
  },
  {
   "cell_type": "markdown",
   "metadata": {},
   "source": [
    "対象領域は6000m×6000mの矩形領域とします。"
   ]
  },
  {
   "cell_type": "code",
   "execution_count": 3,
   "metadata": {
    "collapsed": false
   },
   "outputs": [],
   "source": [
    "d =  1.500e+02\n",
    "x =  6.000e+03\n",
    "z =  6.000e+03\n",
    "m = gf.Mesh('cartesian', np.arange(0., x+d, d), np.arange(0., z+d, d))\n",
    "m.set('optimize_structure')\n",
    "m.export_to_pos(\"./pos/m.pos\")\n",
    "mfu = gf.MeshFem(m,2)\n",
    "mfu.set_fem(gf.Fem('FEM_QK(2,1)'))\n",
    "mim = gf.MeshIm(m, gf.Integ('IM_QUAD(3)'))\n"
   ]
  },
  {
   "cell_type": "code",
   "execution_count": 4,
   "metadata": {
    "collapsed": false
   },
   "outputs": [
    {
     "name": "stdout",
     "output_type": "stream",
     "text": [
      "Overwriting gscript\n"
     ]
    }
   ],
   "source": [
    "%%writefile gscript\n",
    "Print \"./png/m.png\";\n",
    "Exit;\n"
   ]
  },
  {
   "cell_type": "code",
   "execution_count": 5,
   "metadata": {
    "collapsed": false
   },
   "outputs": [
    {
     "data": {
      "image/png": "[encoded data removed]",
      "text/plain": [
       "<IPython.core.display.Image object>"
      ]
     },
     "execution_count": 5,
     "metadata": {},
     "output_type": "execute_result"
    }
   ],
   "source": [
    "!gmsh ./pos/m.pos gscript\n",
    "from IPython.core.display import Image\n",
    "Image('./png/m.png')\n"
   ]
  },
  {
   "cell_type": "markdown",
   "metadata": {},
   "source": [
    "境界条件は底面にインピーダンスを考慮したダンパー境界(水平方向$\\rho V_S A$、上下方向$\\rho V_P A$)を設け、側面部分には水平ローラーを設けます。ただし、$A$は各ダンパーの担当面積を意味します。\n",
    "今回定義が必要な側面と底面について面を定義しておきます。"
   ]
  },
  {
   "cell_type": "code",
   "execution_count": 6,
   "metadata": {
    "collapsed": false
   },
   "outputs": [],
   "source": [
    "P = m.pts()\n",
    "cbot = (abs(P[1,:]-0.000e+00) < 1.000e-6)\n",
    "cright = (abs(P[0,:]-x) < 1.000e-6)\n",
    "cleft = (abs(P[0,:]-0.000e+00) < 1.000e-6)\n",
    "\n",
    "pidbot = np.compress(cbot,range(0,m.nbpts()))\n",
    "pidright = np.compress(cright,range(0,m.nbpts()))\n",
    "pidleft = np.compress(cleft,range(0,m.nbpts()))\n",
    "\n",
    "fbot = m.faces_from_pid(pidbot)\n",
    "fright = m.faces_from_pid(pidright)\n",
    "fleft = m.faces_from_pid(pidleft)\n",
    "\n",
    "BOTTOM = 1\n",
    "RIGHT = 2\n",
    "LEFT = 3\n",
    "SIDE = 4\n",
    "m.set_region(BOTTOM, fbot)\n",
    "m.set_region(RIGHT,fright)\n",
    "m.set_region(LEFT,fleft)\n",
    "\n",
    "m.set_region(SIDE,[[],[]])\n",
    "m.region_merge(SIDE,RIGHT)\n",
    "m.region_merge(SIDE,LEFT)\n"
   ]
  },
  {
   "cell_type": "code",
   "execution_count": null,
   "metadata": {
    "collapsed": true
   },
   "outputs": [],
   "source": []
  }
 ],
 "metadata": {
  "kernelspec": {
   "display_name": "Python 2",
   "language": "python",
   "name": "python2"
  },
  "language_info": {
   "codemirror_mode": {
    "name": "ipython",
    "version": 2
   },
   "file_extension": ".py",
   "mimetype": "text/x-python",
   "name": "python",
   "nbconvert_exporter": "python",
   "pygments_lexer": "ipython2",
   "version": "2.7.10"
  }
 },
 "nbformat": 4,
 "nbformat_minor": 0
}
