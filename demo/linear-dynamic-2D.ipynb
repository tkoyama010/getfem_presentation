{
 "cells": [
  {
   "cell_type": "markdown",
   "metadata": {},
   "source": [
    "# Getfem++を使用した地盤の線形時刻歴応答解析"
   ]
  },
  {
   "cell_type": "markdown",
   "metadata": {},
   "source": [
    "Getfem++を使用して地盤の２次元線形時刻歴応答解析を行いました。"
   ]
  },
  {
   "cell_type": "code",
   "execution_count": 1,
   "metadata": {
    "collapsed": true
   },
   "outputs": [],
   "source": [
    "import numpy as np\n",
    "import getfem as gf\n",
    "import pylab as plt\n",
    "from scipy import io\n",
    "from scipy.sparse import linalg "
   ]
  },
  {
   "cell_type": "markdown",
   "metadata": {},
   "source": [
    "## 解析条件\n",
    "\n",
    "解析対象として、地震波S波速度2000m/secの地盤を考えます。"
   ]
  },
  {
   "cell_type": "code",
   "execution_count": 2,
   "metadata": {
    "collapsed": true
   },
   "outputs": [],
   "source": [
    "# S波速度(m/sec2)\n",
    "Vs = 2.000e+03\n",
    "# ポアソン比(-)\n",
    "Nu =  4.800e-01\n",
    "# 質量密度(kg/m3)\n",
    "rho =  1.800e+01\n",
    "\n",
    "# ラメの弾性定数\n",
    "Mu =  rho*Vs**2\n",
    "# ヤング率\n",
    "E = Mu*(2*(1+Nu))\n",
    "# ラメの弾性定数\n",
    "Lambda = E*Nu/((1+Nu)*(1-2*Nu))\n",
    "# P波速度(m/sec2)\n",
    "Vp = np.sqrt((Lambda+2.000e+00*Mu)/rho)\n"
   ]
  },
  {
   "cell_type": "markdown",
   "metadata": {},
   "source": [
    "対象領域は6000m×6000mの矩形領域とします。"
   ]
  },
  {
   "cell_type": "code",
   "execution_count": 3,
   "metadata": {
    "collapsed": false
   },
   "outputs": [],
   "source": [
    "d =  1.500e+02\n",
    "x =  6.000e+03\n",
    "z =  6.000e+03\n",
    "m = gf.Mesh('cartesian', np.arange(0., x+d, d), np.arange(0., z+d, d))\n",
    "m.set('optimize_structure')\n",
    "m.export_to_pos(\"./pos/m.pos\")\n",
    "# 変位用オブジェクト\n",
    "mfu = gf.MeshFem(m,2) \n",
    "mfu.set_fem(gf.Fem('FEM_QK(2,2)'))\n",
    "# データ用オブジェクト\n",
    "mfd = gf.MeshFem(m, 1) \n",
    "mfd.set_fem(gf.Fem('FEM_QK(2,1)'))\n",
    "\n",
    "mim = gf.MeshIm(m, gf.Integ('IM_QUAD(3)'))\n"
   ]
  },
  {
   "cell_type": "code",
   "execution_count": 4,
   "metadata": {
    "collapsed": false
   },
   "outputs": [
    {
     "name": "stdout",
     "output_type": "stream",
     "text": [
      "Overwriting gscript\n"
     ]
    }
   ],
   "source": [
    "%%writefile gscript\n",
    "Print \"./png/m.png\";\n",
    "Exit;\n"
   ]
  },
  {
   "cell_type": "code",
   "execution_count": 5,
   "metadata": {
    "collapsed": false
   },
   "outputs": [
    {
     "data": {
      "image/png": "[encoded data removed]",
      "text/plain": [
       "<IPython.core.display.Image object>"
      ]
     },
     "execution_count": 5,
     "metadata": {},
     "output_type": "execute_result"
    }
   ],
   "source": [
    "!gmsh ./pos/m.pos gscript\n",
    "from IPython.core.display import Image\n",
    "Image('./png/m.png')\n"
   ]
  },
  {
   "cell_type": "markdown",
   "metadata": {},
   "source": [
    "境界条件は底面にインピーダンスを考慮したダンパー境界(水平方向$\\rho V_S A$、上下方向$\\rho V_P A$)を設け、側面部分には水平ローラーを設けます。ただし、$A$は各ダンパーの担当面積を意味します。\n",
    "今回定義が必要な側面と底面について面を定義しておきます。"
   ]
  },
  {
   "cell_type": "code",
   "execution_count": 6,
   "metadata": {
    "collapsed": false
   },
   "outputs": [],
   "source": [
    "P = m.pts()\n",
    "cbot = (abs(P[1,:]-0.000e+00) < 1.000e-6)\n",
    "cright = (abs(P[0,:]-x) < 1.000e-6)\n",
    "cleft = (abs(P[0,:]-0.000e+00) < 1.000e-6)\n",
    "\n",
    "pidbot = np.compress(cbot,range(0,m.nbpts()))\n",
    "pidright = np.compress(cright,range(0,m.nbpts()))\n",
    "pidleft = np.compress(cleft,range(0,m.nbpts()))\n",
    "\n",
    "fbot = m.faces_from_pid(pidbot)\n",
    "fright = m.faces_from_pid(pidright)\n",
    "fleft = m.faces_from_pid(pidleft)\n",
    "\n",
    "BOTTOM = 1\n",
    "RIGHT = 2\n",
    "LEFT = 3\n",
    "SIDE = 4\n",
    "m.set_region(BOTTOM, fbot)\n",
    "m.set_region(RIGHT,fright)\n",
    "m.set_region(LEFT,fleft)"
   ]
  },
  {
   "cell_type": "markdown",
   "metadata": {},
   "source": [
    "左右の水平ローラーを設定する際にはDirichlet条件$HU=R$の$H$と$R$を左右両端でそれぞれ求めそれを足し合わせます。"
   ]
  },
  {
   "cell_type": "code",
   "execution_count": 7,
   "metadata": {
    "collapsed": false
   },
   "outputs": [],
   "source": [
    "(H_LEFT,R_LEFT) = gf.asm_dirichlet(LEFT, mim, mfu, mfd, mfd.eval('[[0,0],[0,1]]'), mfd.eval('[0,0]'))\n",
    "(H_RIGHT,R_RIGHT) = gf.asm_dirichlet(RIGHT, mim, mfu, mfd, mfd.eval('[[0,0],[0,1]]'), mfd.eval('[0,0]'))\n",
    "H = H_LEFT+H_RIGHT\n",
    "R = R_LEFT+R_RIGHT\n",
    "(N,U0) = H.dirichlet_nullspace(R)"
   ]
  },
  {
   "cell_type": "markdown",
   "metadata": {},
   "source": [
    "底面の粘性境界は外部粘性減衰としてNeumann条件から計算したものを減衰行列に足し合わせることにより考慮します。"
   ]
  },
  {
   "cell_type": "code",
   "execution_count": 8,
   "metadata": {
    "collapsed": false
   },
   "outputs": [],
   "source": [
    "nbd = mfd.nbdof()\n",
    "\n",
    "C_BOTTOM = gf.asm_boundary_source(BOTTOM, mim, mfu, mfd, np.repeat([[rho*Vs], [rho*Vp]],nbd,1))\n",
    "C_BOTTOM_X = gf.asm_boundary_source(BOTTOM, mim, mfu, mfd, np.repeat([[rho*Vs], [0]],nbd,1))"
   ]
  },
  {
   "cell_type": "markdown",
   "metadata": {},
   "source": [
    "## 支配方程式\n",
    "ここで、今回計算対象とする弾性体の支配方程式であるNavierの式をおさらいします。\n",
    "\n",
    "$\\left(\\lambda+\\mu\\right)\\dfrac{\\partial}{\\partial x}\\left(\\dfrac{\\partial u_{x}}{\\partial x}+\\dfrac{\\partial u_{y}}{\\partial y}+\\dfrac{\\partial u_{z}}{\\partial z}\\right)+\\mu\\left(\\dfrac{\\partial^{2}}{\\partial x^{2}}+\\dfrac{\\partial^{2}}{\\partial y^{2}}+\\dfrac{\\partial^{2}}{\\partial z^{2}}\\right)u_{x}+f_{x}=\\rho\\dfrac{\\partial^{2}u_{x}}{\\partial t^{2}}$\n",
    "$\\left(\\lambda+\\mu\\right)\\dfrac{\\partial}{\\partial y}\\left(\\dfrac{\\partial u_{x}}{\\partial x}+\\dfrac{\\partial u_{y}}{\\partial y}+\\dfrac{\\partial u_{z}}{\\partial z}\\right)+\\mu\\left(\\dfrac{\\partial^{2}}{\\partial x^{2}}+\\dfrac{\\partial^{2}}{\\partial y^{2}}+\\dfrac{\\partial^{2}}{\\partial z^{2}}\\right)u_{y}+f_{y}  =  \\rho\\dfrac{\\partial^{2}u_{y}}{\\partial t^{2}}$\n",
    "$\\left(\\lambda+\\mu\\right)\\dfrac{\\partial}{\\partial z}\\left(\\dfrac{\\partial u_{x}}{\\partial x}+\\dfrac{\\partial u_{y}}{\\partial y}+\\dfrac{\\partial u_{z}}{\\partial z}\\right)+\\mu\\left(\\dfrac{\\partial^{2}}{\\partial x^{2}}+\\dfrac{\\partial^{2}}{\\partial y^{2}}+\\dfrac{\\partial^{2}}{\\partial z^{2}}\\right)u_{z}+f_{z}  =  \\rho\\dfrac{\\partial^{2}u_{z}}{\\partial t^{2}}$\n",
    "\n",
    "今回は２次元の解析ですので、Y方向の状態量は一定とします。($\\dfrac{\\partial}{\\partial y}=0$)\n",
    "\n",
    "$\\left(\\lambda+\\mu\\right)\\dfrac{\\partial}{\\partial x}\\left(\\dfrac{\\partial u_{x}}{\\partial x}+\\dfrac{\\partial u_{z}}{\\partial z}\\right)+\\mu\\left(\\dfrac{\\partial^{2}}{\\partial x^{2}}+\\dfrac{\\partial^{2}}{\\partial z^{2}}\\right)u_{x}+f_{x}=\\rho\\dfrac{\\partial^{2}u_{x}}{\\partial t^{2}}$\n",
    "\n",
    "$\\left(\\lambda+\\mu\\right)\\dfrac{\\partial}{\\partial z}\\left(\\dfrac{\\partial u_{x}}{\\partial x}+\\dfrac{\\partial u_{z}}{\\partial z}\\right)+\\mu\\left(\\dfrac{\\partial^{2}}{\\partial x^{2}}+\\dfrac{\\partial^{2}}{\\partial z^{2}}\\right)u_{z}+f_{z}=\\rho\\dfrac{\\partial^{2}u_{z}}{\\partial t^{2}}$\n",
    "\n",
    "$\\mu\\left(\\dfrac{\\partial^{2}}{\\partial x^{2}}+\\dfrac{\\partial^{2}}{\\partial z^{2}}\\right)u_{y}+f_{y}=\\rho\\dfrac{\\partial^{2}u_{y}}{\\partial t^{2}}$\n",
    "\n",
    "上式の上２式は面内波の式、下の１式は面外波の式になります。今回はこの面外波の時刻歴応答解析を行います。下のように計算することで、剛性行列・質量行列・減衰行列を計算することができます。"
   ]
  },
  {
   "cell_type": "code",
   "execution_count": 9,
   "metadata": {
    "collapsed": false
   },
   "outputs": [],
   "source": [
    "# 剛性行列\n",
    "K = gf.asm_linear_elasticity(mim, mfu, mfd, np.repeat([Lambda], nbd), np.repeat([Mu], nbd))\n",
    "# 質量行列\n",
    "M = gf.asm_mass_matrix(mim, mfu)*rho\n",
    "# 減衰行列\n",
    "C = gf.Spmat('copy',M)\n",
    "C.clear()\n",
    "C.set_diag((C_BOTTOM))\n",
    "C_X = C_BOTTOM_X\n"
   ]
  },
  {
   "cell_type": "markdown",
   "metadata": {},
   "source": [
    "なお、今回は面内波の計算のみを行いますが、$\\lambda = -\\mu$として入力を行えば、面外波の計算も可能です。現時点で、行列はGetfem++のSpmatオブジェクトになっていますが、これをMatrixMarketフォーマットでファイルに出力のうえ、Scipyのsparse matrixとして読み込みます。MatrixMarketは疎行列のメジャーなファイルフォーマットの１つです。\n",
    "\n",
    "http://math.nist.gov/MatrixMarket/formats.html"
   ]
  },
  {
   "cell_type": "code",
   "execution_count": 10,
   "metadata": {
    "collapsed": false
   },
   "outputs": [],
   "source": [
    "N.save('mm', \"N.mtx\"); N = io.mmread(\"N.mtx\")\n",
    "K.save('mm', \"K.mtx\"); K = io.mmread(\"K.mtx\")\n",
    "M.save('mm', \"M.mtx\"); M = io.mmread(\"M.mtx\")\n",
    "C.save('mm', \"C.mtx\"); C = io.mmread(\"C.mtx\")"
   ]
  },
  {
   "cell_type": "code",
   "execution_count": 11,
   "metadata": {
    "collapsed": false
   },
   "outputs": [],
   "source": [
    "# 側面の境界条件を考慮した行列\n",
    "Nt = N.transpose()\n",
    "KK = Nt*K*N\n",
    "MM = Nt*M*N\n",
    "CC = Nt*C*N\n",
    "CC_X = Nt*C_X"
   ]
  },
  {
   "cell_type": "markdown",
   "metadata": {},
   "source": [
    "下部の粘性境界からの入力速度波形としてRickerWaveletを使用します。"
   ]
  },
  {
   "cell_type": "code",
   "execution_count": 12,
   "metadata": {
    "collapsed": false
   },
   "outputs": [
    {
     "data": {
      "image/png": "[encoded data removed]",
      "text/plain": [
       "<matplotlib.figure.Figure at 0x57a2950>"
      ]
     },
     "metadata": {},
     "output_type": "display_data"
    }
   ],
   "source": [
    "TP = 200\n",
    "VP = 1.0\n",
    "time_step = 500\n",
    "wave = np.zeros(time_step)\n",
    "time = np.arange(TP*2)\n",
    "omegaP = 2.000E+00*np.pi/TP\n",
    "tauR = omegaP/np.sqrt(2.0)*(time-TP)\n",
    "wave[10+time] =  -np.sqrt(np.e)*tauR*VP*np.exp(-tauR**2/2.000E+00)\n",
    "%matplotlib inline\n",
    "plt.plot(wave)\n",
    "plt.show()"
   ]
  },
  {
   "cell_type": "markdown",
   "metadata": {},
   "source": [
    "# Newmark-β法による時刻歴応答解析\n",
    "\n",
    "以上で、時刻歴応答解析に必要な質量行列・剛性行列・減衰行列および入力地震動が揃いました。これらを使用してNewmark-β法で時刻歴応答解析を行います。"
   ]
  },
  {
   "cell_type": "code",
   "execution_count": 13,
   "metadata": {
    "collapsed": false
   },
   "outputs": [],
   "source": [
    "# βの値\n",
    "beta = 1./ 4.\n",
    "# 時間刻み\n",
    "dt = 0.01\n",
    "\n",
    "sl = gf.Slice(('none',), mfu, 2)\n",
    "MMM = MM+dt/2.000e+00*CC+beta*dt**2*KK\n",
    "\n",
    "dis = np.zeros(CC_X.size)\n",
    "vel = np.zeros(CC_X.size)\n",
    "acc = np.zeros(CC_X.size)\n"
   ]
  },
  {
   "cell_type": "code",
   "execution_count": 14,
   "metadata": {
    "collapsed": false
   },
   "outputs": [],
   "source": [
    "for stpot in np.arange(1,time_step):\n",
    "\n",
    "  dis0 = dis\n",
    "  vel0 = vel\n",
    "  acc0 = acc\n",
    "\n",
    "  FFF = -CC*(vel0+dt/2.000e+00*acc0)-KK*(dis0+vel0*dt+(1.000e+00/2.000e+00-beta)*acc0*dt**2)-CC_X*wave[stpot]\n",
    "  \n",
    "\n",
    "  acc = linalg.spsolve(MMM, FFF)\n",
    "  dis = dis0+vel0*dt+(1.000e+00/2.000e+00-beta)*acc0*dt**2+beta*acc*dt**2\n",
    "  vel = vel0+1.000e+00/2.000e+00*(acc0+acc)*dt\n",
    "\n",
    "  filename = 'results/linear-dynamic-'+(\"00000\"+str(stpot))[-5:]+'.vtk'\n",
    "\n",
    "  sl.export_to_vtk(filename, 'ascii', mfu, N*dis, 'Displacement', mfu, N*vel, 'Velocity', mfu, N*acc, 'Acceralation')"
   ]
  },
  {
   "cell_type": "code",
   "execution_count": null,
   "metadata": {
    "collapsed": true
   },
   "outputs": [],
   "source": []
  }
 ],
 "metadata": {
  "kernelspec": {
   "display_name": "Python 2",
   "language": "python",
   "name": "python2"
  },
  "language_info": {
   "codemirror_mode": {
    "name": "ipython",
    "version": 2
   },
   "file_extension": ".py",
   "mimetype": "text/x-python",
   "name": "python",
   "nbconvert_exporter": "python",
   "pygments_lexer": "ipython2",
   "version": "2.7.10"
  }
 },
 "nbformat": 4,
 "nbformat_minor": 0
}
